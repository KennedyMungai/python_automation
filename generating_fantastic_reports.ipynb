{
 "cells": [
  {
   "cell_type": "markdown",
   "metadata": {},
   "source": [
    "<h1>Generating Fantastic Reports</h1>\n"
   ]
  },
  {
   "cell_type": "code",
   "execution_count": 1,
   "metadata": {},
   "outputs": [],
   "source": [
    "from datetime import datetime"
   ]
  },
  {
   "cell_type": "code",
   "execution_count": 2,
   "metadata": {},
   "outputs": [],
   "source": [
    "TEMPLATE = '''\n",
    "    Movies Report\n",
    "    --------------\n",
    "    \n",
    "    Date: {date}\n",
    "    Movies Seen in the last 30 days: {num_movies}\n",
    "    Total Minutes: {total_minutes}\n",
    "'''"
   ]
  },
  {
   "cell_type": "code",
   "execution_count": 3,
   "metadata": {},
   "outputs": [],
   "source": [
    "data = {\n",
    "    'date': datetime.now(),\n",
    "    'num_movies': 3,\n",
    "    'total_minutes': 376\n",
    "}"
   ]
  },
  {
   "cell_type": "code",
   "execution_count": 4,
   "metadata": {},
   "outputs": [],
   "source": [
    "report = TEMPLATE.format(**data)"
   ]
  },
  {
   "cell_type": "code",
   "execution_count": 5,
   "metadata": {},
   "outputs": [],
   "source": [
    "FILENAME_TMPL = \"{date}_report.txt\""
   ]
  },
  {
   "cell_type": "code",
   "execution_count": 6,
   "metadata": {},
   "outputs": [
    {
     "data": {
      "text/plain": [
       "'2024-02-21_report.txt'"
      ]
     },
     "execution_count": 6,
     "metadata": {},
     "output_type": "execute_result"
    }
   ],
   "source": [
    "filename = FILENAME_TMPL.format(date=data['date'].strftime('%Y-%m-%d'))\n",
    "filename"
   ]
  },
  {
   "cell_type": "markdown",
   "metadata": {},
   "source": [
    "<p>Using Templates for Reports</p>\n"
   ]
  },
  {
   "cell_type": "code",
   "execution_count": 7,
   "metadata": {},
   "outputs": [],
   "source": [
    "from jinja2 import Template\n",
    "from datetime import datetime"
   ]
  },
  {
   "cell_type": "code",
   "execution_count": 8,
   "metadata": {},
   "outputs": [],
   "source": [
    "with open('./pages/jinja_template.html') as file:\n",
    "    template = Template(file.read())"
   ]
  },
  {
   "cell_type": "code",
   "execution_count": 9,
   "metadata": {},
   "outputs": [],
   "source": [
    "context = {\n",
    "    'date': datetime.now,\n",
    "    'movies': ['Casablanca', 'The sound of Music', 'Vertigo'],\n",
    "    'total_minutes': 404\n",
    "}"
   ]
  },
  {
   "cell_type": "code",
   "execution_count": 10,
   "metadata": {},
   "outputs": [],
   "source": [
    "with open('./pages/report.html', 'w') as file:\n",
    "    file.write(template.render(context))"
   ]
  },
  {
   "cell_type": "markdown",
   "metadata": {},
   "source": [
    "<p>Formatting Text in Markdown</p>\n"
   ]
  },
  {
   "cell_type": "code",
   "execution_count": 11,
   "metadata": {},
   "outputs": [],
   "source": [
    "import mistune\n",
    "from datetime import datetime"
   ]
  },
  {
   "cell_type": "code",
   "execution_count": 12,
   "metadata": {},
   "outputs": [],
   "source": [
    "with open('./markdown/markdown_template.md') as file:\n",
    "    template = file.read()"
   ]
  },
  {
   "cell_type": "code",
   "execution_count": 13,
   "metadata": {},
   "outputs": [],
   "source": [
    "context = {\n",
    "    'date': datetime.now,\n",
    "    'pmovies': ['Casablanca', 'The Sound of Music', 'Vertigo'],\n",
    "    'total_minutes': 404\n",
    "}"
   ]
  },
  {
   "cell_type": "code",
   "execution_count": 14,
   "metadata": {},
   "outputs": [],
   "source": [
    "context['num_movies'] = len(context['pmovies'])\n",
    "context['movies'] = '\\n'.join('* {}'.format(movie)\n",
    "                              for movie in context['pmovies'])"
   ]
  },
  {
   "cell_type": "code",
   "execution_count": 15,
   "metadata": {},
   "outputs": [],
   "source": [
    "md_report = template.format(**context)\n",
    "report = mistune.markdown(md_report)"
   ]
  },
  {
   "cell_type": "code",
   "execution_count": 16,
   "metadata": {},
   "outputs": [],
   "source": [
    "with open('./pages/report_2.html', 'w') as file:\n",
    "    file.write(report)"
   ]
  },
  {
   "cell_type": "markdown",
   "metadata": {},
   "source": [
    "<p>Writing A Basic Word Document</p>\n"
   ]
  },
  {
   "cell_type": "code",
   "execution_count": 17,
   "metadata": {},
   "outputs": [],
   "source": [
    "import docx\n",
    "from datetime import datetime"
   ]
  },
  {
   "cell_type": "code",
   "execution_count": 18,
   "metadata": {},
   "outputs": [],
   "source": [
    "context = {\n",
    "    'date': datetime.now(),\n",
    "    'movies': ['Casablanca', 'The Sound of Music', 'Vertigo'],\n",
    "    'total_minutes': 404\n",
    "}"
   ]
  },
  {
   "cell_type": "code",
   "execution_count": 19,
   "metadata": {},
   "outputs": [
    {
     "data": {
      "text/plain": [
       "<docx.text.paragraph.Paragraph at 0x24b63586630>"
      ]
     },
     "execution_count": 19,
     "metadata": {},
     "output_type": "execute_result"
    }
   ],
   "source": [
    "document = docx.Document()\n",
    "document.add_heading('Movies Report', 0)"
   ]
  },
  {
   "cell_type": "code",
   "execution_count": 20,
   "metadata": {},
   "outputs": [],
   "source": [
    "paragraph = document.add_paragraph('Date: ')\n",
    "paragraph.add_run(str(context['date'])).italic = True"
   ]
  },
  {
   "cell_type": "code",
   "execution_count": 21,
   "metadata": {},
   "outputs": [],
   "source": [
    "paragraph = document.add_paragraph('Movies seen in the last 30 days: ')\n",
    "paragraph.add_run(str(len(context['movies']))).italic = True"
   ]
  },
  {
   "cell_type": "code",
   "execution_count": 22,
   "metadata": {},
   "outputs": [],
   "source": [
    "for movie in context['movies']:\n",
    "    document.add_paragraph(movie, style='List Bullet')"
   ]
  },
  {
   "cell_type": "code",
   "execution_count": 23,
   "metadata": {},
   "outputs": [],
   "source": [
    "paragraph = document.add_paragraph('Total Minutes: ')\n",
    "paragraph.add_run(str(context['total_minutes'])).italic = True\n",
    "document.save('./documents/word_report.docx')"
   ]
  },
  {
   "cell_type": "markdown",
   "metadata": {},
   "source": [
    "<p>Styling A Word Document</p>\n"
   ]
  },
  {
   "cell_type": "code",
   "execution_count": 24,
   "metadata": {},
   "outputs": [],
   "source": [
    "import docx"
   ]
  },
  {
   "cell_type": "code",
   "execution_count": 25,
   "metadata": {},
   "outputs": [],
   "source": [
    "document = docx.Document()"
   ]
  },
  {
   "cell_type": "code",
   "execution_count": 26,
   "metadata": {},
   "outputs": [
    {
     "data": {
      "text/plain": [
       "<docx.text.run.Run at 0x24b63587830>"
      ]
     },
     "execution_count": 26,
     "metadata": {},
     "output_type": "execute_result"
    }
   ],
   "source": [
    "p = document.add_paragraph('This shows different kinds of emphasis: ')\n",
    "p.add_run('bold').bold = True\n",
    "p.add_run(', ')"
   ]
  },
  {
   "cell_type": "code",
   "execution_count": 27,
   "metadata": {},
   "outputs": [
    {
     "data": {
      "text/plain": [
       "<docx.text.run.Run at 0x24b63533050>"
      ]
     },
     "execution_count": 27,
     "metadata": {},
     "output_type": "execute_result"
    }
   ],
   "source": [
    "p.add_run('italics').italic = True\n",
    "p.add_run(' and ')"
   ]
  },
  {
   "cell_type": "code",
   "execution_count": 28,
   "metadata": {},
   "outputs": [
    {
     "data": {
      "text/plain": [
       "<docx.text.run.Run at 0x24b63994440>"
      ]
     },
     "execution_count": 28,
     "metadata": {},
     "output_type": "execute_result"
    }
   ],
   "source": [
    "p.add_run('underline').underline = True\n",
    "p.add_run('.')"
   ]
  },
  {
   "cell_type": "code",
   "execution_count": 29,
   "metadata": {},
   "outputs": [
    {
     "data": {
      "text/plain": [
       "<docx.text.paragraph.Paragraph at 0x24b63de6f90>"
      ]
     },
     "execution_count": 29,
     "metadata": {},
     "output_type": "execute_result"
    }
   ],
   "source": [
    "document.add_paragraph('a few', style='List Bullet')"
   ]
  },
  {
   "cell_type": "code",
   "execution_count": 30,
   "metadata": {},
   "outputs": [
    {
     "data": {
      "text/plain": [
       "<docx.text.paragraph.Paragraph at 0x24b63db56d0>"
      ]
     },
     "execution_count": 30,
     "metadata": {},
     "output_type": "execute_result"
    }
   ],
   "source": [
    "document.add_paragraph('bullet', style='List Bullet')"
   ]
  },
  {
   "cell_type": "code",
   "execution_count": 31,
   "metadata": {},
   "outputs": [
    {
     "data": {
      "text/plain": [
       "<docx.text.paragraph.Paragraph at 0x24b63e15c10>"
      ]
     },
     "execution_count": 31,
     "metadata": {},
     "output_type": "execute_result"
    }
   ],
   "source": [
    "document.add_paragraph('points', style='List Bullet')"
   ]
  },
  {
   "cell_type": "code",
   "execution_count": 32,
   "metadata": {},
   "outputs": [
    {
     "data": {
      "text/plain": [
       "<docx.text.paragraph.Paragraph at 0x24b63e173e0>"
      ]
     },
     "execution_count": 32,
     "metadata": {},
     "output_type": "execute_result"
    }
   ],
   "source": [
    "document.add_paragraph('Or numbered', style='List Number')"
   ]
  },
  {
   "cell_type": "code",
   "execution_count": 33,
   "metadata": {},
   "outputs": [
    {
     "data": {
      "text/plain": [
       "<docx.text.paragraph.Paragraph at 0x24b63e17500>"
      ]
     },
     "execution_count": 33,
     "metadata": {},
     "output_type": "execute_result"
    }
   ],
   "source": [
    "document.add_paragraph('that will', style='List Number')"
   ]
  },
  {
   "cell_type": "code",
   "execution_count": 34,
   "metadata": {},
   "outputs": [
    {
     "data": {
      "text/plain": [
       "<docx.text.paragraph.Paragraph at 0x24b63d7f5c0>"
      ]
     },
     "execution_count": 34,
     "metadata": {},
     "output_type": "execute_result"
    }
   ],
   "source": [
    "document.add_paragraph('that keep', style='List Number')"
   ]
  },
  {
   "cell_type": "code",
   "execution_count": 35,
   "metadata": {},
   "outputs": [
    {
     "data": {
      "text/plain": [
       "<docx.text.paragraph.Paragraph at 0x24b62e8f740>"
      ]
     },
     "execution_count": 35,
     "metadata": {},
     "output_type": "execute_result"
    }
   ],
   "source": [
    "document.add_paragraph('count', style='List Number')"
   ]
  },
  {
   "cell_type": "code",
   "execution_count": 36,
   "metadata": {},
   "outputs": [
    {
     "data": {
      "text/plain": [
       "<docx.text.paragraph.Paragraph at 0x24b63e17b00>"
      ]
     },
     "execution_count": 36,
     "metadata": {},
     "output_type": "execute_result"
    }
   ],
   "source": [
    "document.add_paragraph('And finish with a quote', style='Quote')"
   ]
  },
  {
   "cell_type": "code",
   "execution_count": 37,
   "metadata": {},
   "outputs": [],
   "source": [
    "# Create a paragraph with different font and size(Using Arial and a font size of 25)\n",
    "from docx.shared import Pt\n",
    "from docx.enum.text import WD_ALIGN_PARAGRAPH"
   ]
  },
  {
   "cell_type": "code",
   "execution_count": 38,
   "metadata": {},
   "outputs": [],
   "source": [
    "p = document.add_paragraph(\n",
    "    'This paragraph will have a manual styling and right alignment')"
   ]
  },
  {
   "cell_type": "code",
   "execution_count": 39,
   "metadata": {},
   "outputs": [],
   "source": [
    "p.runs[0].font_name = 'Arial'\n",
    "p.runs[0].font_size = Pt(25)\n",
    "p.alignment = WD_ALIGN_PARAGRAPH.RIGHT"
   ]
  },
  {
   "cell_type": "code",
   "execution_count": 40,
   "metadata": {},
   "outputs": [],
   "source": [
    "document.save('./documents/word_report_styled.docx')"
   ]
  },
  {
   "cell_type": "markdown",
   "metadata": {},
   "source": [
    "<p>Generating Structure in Word Documents</p>\n"
   ]
  },
  {
   "cell_type": "code",
   "execution_count": 41,
   "metadata": {},
   "outputs": [],
   "source": [
    "import docx"
   ]
  },
  {
   "cell_type": "code",
   "execution_count": 42,
   "metadata": {},
   "outputs": [],
   "source": [
    "document = docx.Document()"
   ]
  },
  {
   "cell_type": "code",
   "execution_count": 43,
   "metadata": {},
   "outputs": [
    {
     "data": {
      "text/plain": [
       "<docx.text.run.Run at 0x24b63e17ce0>"
      ]
     },
     "execution_count": 43,
     "metadata": {},
     "output_type": "execute_result"
    }
   ],
   "source": [
    "p = document.add_paragraph('This is the start of the paragraph')\n",
    "run = p.add_run()\n",
    "run.add_break(docx.text.run.WD_BREAK.LINE)\n",
    "p.add_run('And now this is in a different line')\n",
    "p.add_run(\". Even if it's on the same paragraph.\")"
   ]
  },
  {
   "cell_type": "code",
   "execution_count": 44,
   "metadata": {},
   "outputs": [
    {
     "data": {
      "text/plain": [
       "<docx.text.paragraph.Paragraph at 0x24b63901c10>"
      ]
     },
     "execution_count": 44,
     "metadata": {},
     "output_type": "execute_result"
    }
   ],
   "source": [
    "document.add_page_break()\n",
    "document.add_paragraph('This appears on a new page')"
   ]
  },
  {
   "cell_type": "code",
   "execution_count": 45,
   "metadata": {},
   "outputs": [
    {
     "data": {
      "text/plain": [
       "<docx.text.paragraph.Paragraph at 0x24b63de5430>"
      ]
     },
     "execution_count": 45,
     "metadata": {},
     "output_type": "execute_result"
    }
   ],
   "source": [
    "# Create a new section which will be on landscape pages\n",
    "section = document.add_section(docx.enum.section.WD_SECTION.NEW_PAGE)\n",
    "section.orientation = docx.enum.section.WD_ORIENT.LANDSCAPE\n",
    "section.page_height, section.page_width = section.page_width, section.page_height\n",
    "document.add_paragraph('This is part of a new landscape section')"
   ]
  },
  {
   "cell_type": "code",
   "execution_count": 46,
   "metadata": {},
   "outputs": [
    {
     "data": {
      "text/plain": [
       "<docx.text.paragraph.Paragraph at 0x24b63901c40>"
      ]
     },
     "execution_count": 46,
     "metadata": {},
     "output_type": "execute_result"
    }
   ],
   "source": [
    "section = document.add_section(docx.enum.section.WD_SECTION.NEW_PAGE)\n",
    "section.page_height, section.page_width = section.page_width, section.page_height\n",
    "document.add_paragraph('In this section, recover the portrait orientation')"
   ]
  },
  {
   "cell_type": "code",
   "execution_count": 47,
   "metadata": {},
   "outputs": [],
   "source": [
    "document.save('./documents/word_report_structure.docx')"
   ]
  },
  {
   "cell_type": "markdown",
   "metadata": {},
   "source": [
    "<p>Adding Pictures to word documents</p>\n"
   ]
  },
  {
   "cell_type": "code",
   "execution_count": 48,
   "metadata": {},
   "outputs": [],
   "source": [
    "import docx"
   ]
  },
  {
   "cell_type": "code",
   "execution_count": 49,
   "metadata": {},
   "outputs": [],
   "source": [
    "document = docx.Document()"
   ]
  },
  {
   "cell_type": "code",
   "execution_count": 50,
   "metadata": {},
   "outputs": [
    {
     "data": {
      "text/plain": [
       "<docx.text.paragraph.Paragraph at 0x24b63e16bd0>"
      ]
     },
     "execution_count": 50,
     "metadata": {},
     "output_type": "execute_result"
    }
   ],
   "source": [
    "document.add_paragraph(\n",
    "    'This is a document that includes a picture taken in Dublin')"
   ]
  },
  {
   "cell_type": "code",
   "execution_count": 51,
   "metadata": {},
   "outputs": [],
   "source": [
    "image = document.add_picture('./images/photo-dublin-a2.png')"
   ]
  },
  {
   "cell_type": "code",
   "execution_count": 52,
   "metadata": {},
   "outputs": [],
   "source": [
    "from docx.shared import Cm\n",
    "image.width = Cm(14)\n",
    "image.height = Cm(10)"
   ]
  },
  {
   "cell_type": "code",
   "execution_count": 53,
   "metadata": {},
   "outputs": [
    {
     "data": {
      "text/plain": [
       "<docx.text.run.Run at 0x24b638cdfd0>"
      ]
     },
     "execution_count": 53,
     "metadata": {},
     "output_type": "execute_result"
    }
   ],
   "source": [
    "from docx.enum.text import WD_ALIGN_PARAGRAPH\n",
    "paragraph = document.paragraphs[-1]\n",
    "\n",
    "\n",
    "\n",
    "paragraph.alignment = WD_ALIGN_PARAGRAPH.CENTER\n",
    "\n",
    "paragraph.add_run().add_break()\n",
    "\n",
    "paragraph.add_run('A Picture of Dublin')"
   ]
  },
  {
   "cell_type": "code",
   "execution_count": 54,
   "metadata": {},
   "outputs": [
    {
     "data": {
      "text/plain": [
       "<docx.text.paragraph.Paragraph at 0x24b63e31430>"
      ]
     },
     "execution_count": 54,
     "metadata": {},
     "output_type": "execute_result"
    }
   ],
   "source": [
    "# Adding a new document with extra text and save the document\n",
    "document.add_paragraph('Keep adding text after the image')"
   ]
  },
  {
   "cell_type": "code",
   "execution_count": 55,
   "metadata": {},
   "outputs": [],
   "source": [
    "document.save('./documents/word_report_with_image.docx')"
   ]
  },
  {
   "cell_type": "markdown",
   "metadata": {},
   "source": [
    "<p>Writing A Simple PDF document</p>\n"
   ]
  },
  {
   "cell_type": "code",
   "execution_count": 56,
   "metadata": {},
   "outputs": [],
   "source": [
    "from fpdf import FPDF"
   ]
  },
  {
   "cell_type": "code",
   "execution_count": 57,
   "metadata": {},
   "outputs": [],
   "source": [
    "document = FPDF()"
   ]
  },
  {
   "cell_type": "code",
   "execution_count": 58,
   "metadata": {},
   "outputs": [],
   "source": [
    "document.set_font('Times', 'B', 14)\n",
    "document.set_text_color(19, 83, 173)\n",
    "document.add_page()"
   ]
  },
  {
   "cell_type": "code",
   "execution_count": 59,
   "metadata": {},
   "outputs": [],
   "source": [
    "document.cell(0, 5, 'PDF Test Document')\n",
    "document.ln()"
   ]
  },
  {
   "cell_type": "code",
   "execution_count": 60,
   "metadata": {},
   "outputs": [],
   "source": [
    "document.set_font('Times', '', 12)\n",
    "document.set_text_color(0, 0, 0)\n",
    "document.multi_cell(0, 5, 'This is an example of a long paragraph. ' * 10)\n",
    "document.ln()"
   ]
  },
  {
   "cell_type": "code",
   "execution_count": 61,
   "metadata": {},
   "outputs": [
    {
     "data": {
      "text/plain": [
       "[]"
      ]
     },
     "execution_count": 61,
     "metadata": {},
     "output_type": "execute_result"
    }
   ],
   "source": [
    "document.multi_cell(\n",
    "    0, 5, 'Another long paragraph. Lorem ipsum dolor sit amet, consectetur adipiscing elit.' * 20)"
   ]
  },
  {
   "cell_type": "code",
   "execution_count": 62,
   "metadata": {},
   "outputs": [
    {
     "data": {
      "text/plain": [
       "''"
      ]
     },
     "execution_count": 62,
     "metadata": {},
     "output_type": "execute_result"
    }
   ],
   "source": [
    "document.output('./documents/report.pdf')"
   ]
  },
  {
   "cell_type": "code",
   "execution_count": 63,
   "metadata": {},
   "outputs": [],
   "source": [
    "from fpdf import FPDF\n",
    "from random import randint"
   ]
  },
  {
   "cell_type": "code",
   "execution_count": 65,
   "metadata": {},
   "outputs": [
    {
     "ename": "NameError",
     "evalue": "name 'LOREM_IPSUM' is not defined",
     "output_type": "error",
     "traceback": [
      "\u001b[1;31m---------------------------------------------------------------------------\u001b[0m",
      "\u001b[1;31mNameError\u001b[0m                                 Traceback (most recent call last)",
      "Cell \u001b[1;32mIn[65], line 1\u001b[0m\n\u001b[1;32m----> 1\u001b[0m \u001b[38;5;28;43;01mclass\u001b[39;49;00m\u001b[43m \u001b[49m\u001b[38;5;21;43;01mStructuredPDF\u001b[39;49;00m\u001b[43m(\u001b[49m\u001b[43mFPDF\u001b[49m\u001b[43m)\u001b[49m\u001b[43m:\u001b[49m\n\u001b[0;32m      2\u001b[0m \u001b[43m    \u001b[49m\u001b[43mLINE_HEIGHT\u001b[49m\u001b[43m \u001b[49m\u001b[38;5;241;43m=\u001b[39;49m\u001b[43m \u001b[49m\u001b[38;5;241;43m5\u001b[39;49m\n\u001b[0;32m      4\u001b[0m \u001b[43m    \u001b[49m\u001b[38;5;28;43;01mdef\u001b[39;49;00m\u001b[43m \u001b[49m\u001b[38;5;21;43mfooter\u001b[39;49m\u001b[43m(\u001b[49m\u001b[38;5;28;43mself\u001b[39;49m\u001b[43m)\u001b[49m\u001b[43m:\u001b[49m\n",
      "Cell \u001b[1;32mIn[65], line 93\u001b[0m, in \u001b[0;36mStructuredPDF\u001b[1;34m()\u001b[0m\n\u001b[0;32m     90\u001b[0m     document\u001b[38;5;241m.\u001b[39moutput(\u001b[38;5;124m'\u001b[39m\u001b[38;5;124m./documents/report.pdf\u001b[39m\u001b[38;5;124m'\u001b[39m)\n\u001b[0;32m     92\u001b[0m \u001b[38;5;28;01mif\u001b[39;00m \u001b[38;5;18m__name__\u001b[39m \u001b[38;5;241m==\u001b[39m \u001b[38;5;124m'\u001b[39m\u001b[38;5;124m__main__\u001b[39m\u001b[38;5;124m'\u001b[39m:\n\u001b[1;32m---> 93\u001b[0m     \u001b[43mmain\u001b[49m\u001b[43m(\u001b[49m\u001b[43m)\u001b[49m\n",
      "Cell \u001b[1;32mIn[65], line 86\u001b[0m, in \u001b[0;36mStructuredPDF.main\u001b[1;34m()\u001b[0m\n\u001b[0;32m     84\u001b[0m     chapter_title \u001b[38;5;241m=\u001b[39m \u001b[38;5;124m'\u001b[39m\u001b[38;5;124mChapter \u001b[39m\u001b[38;5;132;01m{}\u001b[39;00m\u001b[38;5;124m'\u001b[39m\u001b[38;5;241m.\u001b[39mformat(index)\n\u001b[0;32m     85\u001b[0m     num_paragraphs \u001b[38;5;241m=\u001b[39m randint(\u001b[38;5;241m10\u001b[39m, \u001b[38;5;241m15\u001b[39m)\n\u001b[1;32m---> 86\u001b[0m     link, page \u001b[38;5;241m=\u001b[39m document\u001b[38;5;241m.\u001b[39mchapter(chapter_title, [\u001b[43mLOREM_IPSUM\u001b[49m] \u001b[38;5;241m*\u001b[39m num_paragraphs)\n\u001b[0;32m     87\u001b[0m     links\u001b[38;5;241m.\u001b[39mappend((chapter_title, page, link))\n\u001b[0;32m     89\u001b[0m document\u001b[38;5;241m.\u001b[39mtoc(links)\n",
      "\u001b[1;31mNameError\u001b[0m: name 'LOREM_IPSUM' is not defined"
     ]
    }
   ],
   "source": [
    "class StructuredPDF(FPDF):\n",
    "    LINE_HEIGHT = 5\n",
    "\n",
    "    def footer(self):\n",
    "        self.set_y\n",
    "        self.set_font('Times', 'I', 8)\n",
    "        page_number = 'Page {number} / {{nb}}'.format(number=self.page_no())\n",
    "        self.cell(0, self.LINE_HEIGHT, page_number, 0, 0, 'R')\n",
    "\n",
    "    def chapter(self, title, paragraphs):\n",
    "        self.add_page()\n",
    "        link = self.title_text(title)\n",
    "        page = self.page_no()\n",
    "\n",
    "        for paragraph in paragraphs:\n",
    "            self.multi_cell(0, self.LINE_HEIGHT, paragraph)\n",
    "            self.ln()\n",
    "\n",
    "        return link, page\n",
    "\n",
    "    def title_text(self, title):\n",
    "        self.set_font('Times', '8', 15)\n",
    "        self.cell(0, self.LINE_HEIGHT, title)\n",
    "        self.set_font('Times', '', 12)\n",
    "        self.line(10, 17, 110, 17)\n",
    "        link = self.add_link()\n",
    "        self.set_link(link)\n",
    "        self.ln()\n",
    "        self.ln()\n",
    "\n",
    "        return link\n",
    "\n",
    "    def get_full_line(self, head, tail, fill):\n",
    "        \"\"\"It returns the line up to the width with the proper number of fill elements\n",
    "\n",
    "        Args:\n",
    "            head (str): The head of the line\n",
    "            tail (str): The tail of the line\n",
    "            fill (str): The fill of the line\n",
    "        \"\"\"\n",
    "        WIDTH = 120\n",
    "        width = 0\n",
    "        number = 1\n",
    "\n",
    "        while width < WIDTH:\n",
    "            number += 1\n",
    "            line = '{} '.format(head) + '.'*number + ' {}'.format(tail)\n",
    "            width = self.get_string_width(line)\n",
    "\n",
    "        return line\n",
    "\n",
    "    def toc(self, links):\n",
    "        self.add_page()\n",
    "        self.title_text('Table of Contents')\n",
    "        self.set_font('Times', 'I', 12)\n",
    "\n",
    "        for title, page, link in links:\n",
    "            line = self.get_full_line(title, page, '.')\n",
    "            self.cell(0, self.LINE_HEIGHT, line, link=link)\n",
    "            self.ln\n",
    "\n",
    "    LOREM_IPSUM = ('Lorem ipsum dolor sit amet, consectetur adipiscing elit. '\n",
    "                   'Donec a diam sem. Sed ac nulla consequat, tempus tortor eget, '\n",
    "                   'fermentum turpis. Class aptent taciti sociosqu ad litora '\n",
    "                   'torquent per conubia nostra, per inceptos himenaeos. Fusce '\n",
    "                   'fermentum nibh ligula, sed dignissim risus hendrerit mollis. '\n",
    "                   'Fusce aliquam semper odio, in convallis mi sagittis et. Proin '\n",
    "                   'ac neque non massa lobortis maximus a quis turpis. Vestibulum '\n",
    "                   'vitae justo elit. Fusce hendrerit, libero in auctor auctor, '\n",
    "                   'risus velit fermentum dui, sed placerat urna augue vel lorem.'\n",
    "                   ' Praesent in enim porta, blandit lorem vulputate, semper '\n",
    "                   'nulla. Duis placerat neque vitae magna pulvinar elementum. '\n",
    "                   'Proin in velit pellentesque, tempus dolor vel, tincidunt '\n",
    "                   'turpis. Quisque vel sem metus. Nullam aliquet risus vel arcu '\n",
    "                   'tempus elementum.')\n",
    "\n",
    "    def main():\n",
    "        document = StructuredPDF()\n",
    "        document.alias_nb_pages()\n",
    "        links = []\n",
    "        num_chapters = randint(5, 40)\n",
    "\n",
    "        for index in range(1, num_chapters):\n",
    "            chapter_title = 'Chapter {}'.format(index)\n",
    "            num_paragraphs = randint(10, 15)\n",
    "            link, page = document.chapter(\n",
    "                chapter_title, [LOREM_IPSUM] * num_paragraphs)\n",
    "            links.append((chapter_title, page, link))\n",
    "\n",
    "        document.toc(links)\n",
    "        document.output('./documents/report.pdf')\n",
    "\n",
    "    if __name__ == '__main__':\n",
    "        main()"
   ]
  }
 ],
 "metadata": {
  "kernelspec": {
   "display_name": "venv",
   "language": "python",
   "name": "python3"
  },
  "language_info": {
   "codemirror_mode": {
    "name": "ipython",
    "version": 3
   },
   "file_extension": ".py",
   "mimetype": "text/x-python",
   "name": "python",
   "nbconvert_exporter": "python",
   "pygments_lexer": "ipython3",
   "version": "3.12.2"
  }
 },
 "nbformat": 4,
 "nbformat_minor": 2
}
