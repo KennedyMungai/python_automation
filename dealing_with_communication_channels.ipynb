{
 "cells": [
  {
   "cell_type": "markdown",
   "metadata": {},
   "source": [
    "<h3>Dealing with Communication Channels</h3>\n"
   ]
  },
  {
   "cell_type": "markdown",
   "metadata": {},
   "source": [
    "<p>Sending An Individual Email</p>\n"
   ]
  },
  {
   "cell_type": "code",
   "execution_count": 9,
   "metadata": {},
   "outputs": [],
   "source": [
    "import smtplib\n",
    "from email.mime.multipart import MIMEMultipart\n",
    "from email.mime.text import MIMEText"
   ]
  },
  {
   "cell_type": "code",
   "execution_count": 11,
   "metadata": {},
   "outputs": [],
   "source": [
    "USER = 'kennedymungaifmab@gmail.com'\n",
    "PASSWORD = 'evik ifqk euuf zrbx'\n",
    "sent_from = USER\n",
    "sent_to = ['johnmungaifma@gmail.com']"
   ]
  },
  {
   "cell_type": "code",
   "execution_count": 12,
   "metadata": {},
   "outputs": [],
   "source": [
    "text = \"Hi!\\nThis is the text version linking to https://www.wikipedia.com\\nCheers!\"\n",
    "html = \"\"\"\n",
    "    <html>\n",
    "        <head></head>\n",
    "        <body>\n",
    "            <p>Hi! <br />\n",
    "                This is the HTML version linking to <a href=\"https://www.wikipedia.com\">Wikipedia</a>\n",
    "            </p>\n",
    "        </body>\n",
    "    </html>\n",
    "\"\"\""
   ]
  },
  {
   "cell_type": "code",
   "execution_count": 13,
   "metadata": {},
   "outputs": [],
   "source": [
    "# Compose the message as a MIME multipart, including subject, to and from\n",
    "msg = MIMEMultipart('alternative')\n",
    "msg['Subject'] = 'An Interesting Email'\n",
    "msg['From'] = sent_from\n",
    "msg['To'] = ', '.join(sent_to)"
   ]
  },
  {
   "cell_type": "code",
   "execution_count": 14,
   "metadata": {},
   "outputs": [],
   "source": [
    "part_plain = MIMEText(text, 'plain')\n",
    "part_html = MIMEText(html, 'html')\n",
    "msg.attach(part_plain)\n",
    "msg.attach(part_html)"
   ]
  },
  {
   "cell_type": "code",
   "execution_count": null,
   "metadata": {},
   "outputs": [],
   "source": [
    "# Send the email using the SMTP SSL protocol\n",
    "with smtplib.SMTP_SSL('smtp.gmail.com', 465) as server:\n",
    "    server.login(USER, PASSWORD)\n",
    "    server.sendmail(sent_from, sent_to, msg.as_string())"
   ]
  }
 ],
 "metadata": {
  "kernelspec": {
   "display_name": "venv",
   "language": "python",
   "name": "python3"
  },
  "language_info": {
   "codemirror_mode": {
    "name": "ipython",
    "version": 3
   },
   "file_extension": ".py",
   "mimetype": "text/x-python",
   "name": "python",
   "nbconvert_exporter": "python",
   "pygments_lexer": "ipython3",
   "version": "3.12.2"
  }
 },
 "nbformat": 4,
 "nbformat_minor": 2
}
