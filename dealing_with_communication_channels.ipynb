{
 "cells": [
  {
   "cell_type": "markdown",
   "metadata": {},
   "source": [
    "<h3>Dealing with Communication Channels</h3>\n"
   ]
  },
  {
   "cell_type": "markdown",
   "metadata": {},
   "source": [
    "<p>Sending An Individual Email</p>\n"
   ]
  },
  {
   "cell_type": "code",
   "execution_count": 9,
   "metadata": {},
   "outputs": [],
   "source": [
    "import smtplib\n",
    "from email.mime.multipart import MIMEMultipart\n",
    "from email.mime.text import MIMEText"
   ]
  },
  {
   "cell_type": "code",
   "execution_count": 11,
   "metadata": {},
   "outputs": [],
   "source": [
    "USER = 'kennedymungaifmab@gmail.com'\n",
    "PASSWORD = 'evik ifqk euuf zrbx'\n",
    "sent_from = USER\n",
    "sent_to = ['johnmungaifma@gmail.com']"
   ]
  },
  {
   "cell_type": "code",
   "execution_count": 12,
   "metadata": {},
   "outputs": [],
   "source": [
    "text = \"Hi!\\nThis is the text version linking to https://www.wikipedia.com\\nCheers!\"\n",
    "html = \"\"\"\n",
    "    <html>\n",
    "        <head></head>\n",
    "        <body>\n",
    "            <p>Hi! <br />\n",
    "                This is the HTML version linking to <a href=\"https://www.wikipedia.com\">Wikipedia</a>\n",
    "            </p>\n",
    "        </body>\n",
    "    </html>\n",
    "\"\"\""
   ]
  },
  {
   "cell_type": "code",
   "execution_count": 13,
   "metadata": {},
   "outputs": [],
   "source": [
    "# Compose the message as a MIME multipart, including subject, to and from\n",
    "msg = MIMEMultipart('alternative')\n",
    "msg['Subject'] = 'An Interesting Email'\n",
    "msg['From'] = sent_from\n",
    "msg['To'] = ', '.join(sent_to)"
   ]
  },
  {
   "cell_type": "code",
   "execution_count": 14,
   "metadata": {},
   "outputs": [],
   "source": [
    "part_plain = MIMEText(text, 'plain')\n",
    "part_html = MIMEText(html, 'html')\n",
    "msg.attach(part_plain)\n",
    "msg.attach(part_html)"
   ]
  },
  {
   "cell_type": "code",
   "execution_count": 15,
   "metadata": {},
   "outputs": [],
   "source": [
    "# Send the email using the SMTP SSL protocol\n",
    "with smtplib.SMTP_SSL('smtp.gmail.com', 465) as server:\n",
    "    server.login(USER, PASSWORD)\n",
    "    server.sendmail(sent_from, sent_to, msg.as_string())"
   ]
  },
  {
   "cell_type": "markdown",
   "metadata": {},
   "source": [
    "<p>Reading An Email</p>"
   ]
  },
  {
   "cell_type": "code",
   "execution_count": 16,
   "metadata": {},
   "outputs": [],
   "source": [
    "import imaplib\n",
    "import email\n",
    "from email.parser import BytesParser, Parser\n",
    "from email.policy import default"
   ]
  },
  {
   "cell_type": "code",
   "execution_count": 17,
   "metadata": {},
   "outputs": [],
   "source": [
    "USER = 'kennedymungaifmab@gmail.com'\n",
    "PASSWORD = 'evik ifqk euuf zrbx'"
   ]
  },
  {
   "cell_type": "code",
   "execution_count": 18,
   "metadata": {},
   "outputs": [
    {
     "data": {
      "text/plain": [
       "('OK', [b'kennedymungaifmab@gmail.com authenticated (Success)'])"
      ]
     },
     "execution_count": 18,
     "metadata": {},
     "output_type": "execute_result"
    }
   ],
   "source": [
    "mail = imaplib.IMAP4_SSL('imap.gmail.com')\n",
    "mail.login(USER, PASSWORD)"
   ]
  },
  {
   "cell_type": "code",
   "execution_count": 19,
   "metadata": {},
   "outputs": [
    {
     "data": {
      "text/plain": [
       "('OK', [b'6926'])"
      ]
     },
     "execution_count": 19,
     "metadata": {},
     "output_type": "execute_result"
    }
   ],
   "source": [
    "mail.select('inbox')"
   ]
  },
  {
   "cell_type": "code",
   "execution_count": 20,
   "metadata": {},
   "outputs": [],
   "source": [
    "# Read all email UIDs and retrieve the latest received email\n",
    "result, data = mail.uid('search', None, \"ALL\")\n",
    "latest_email_uid = data[0].split()[-1]\n",
    "result, data = mail.uid('fetch', latest_email_uid, '(RFC822)')\n",
    "raw_email = data[0][1]"
   ]
  },
  {
   "cell_type": "code",
   "execution_count": 21,
   "metadata": {},
   "outputs": [],
   "source": [
    "# Parse the email into a python object\n",
    "email_message = BytesParser(policy=default).parsebytes(raw_email)"
   ]
  },
  {
   "cell_type": "code",
   "execution_count": 22,
   "metadata": {},
   "outputs": [
    {
     "data": {
      "text/plain": [
       "'Re: An Interesting Email'"
      ]
     },
     "execution_count": 22,
     "metadata": {},
     "output_type": "execute_result"
    }
   ],
   "source": [
    "email_message['subject']"
   ]
  },
  {
   "cell_type": "code",
   "execution_count": 23,
   "metadata": {},
   "outputs": [
    {
     "data": {
      "text/plain": [
       "('John Mungai', 'johnmungaifma@gmail.com')"
      ]
     },
     "execution_count": 23,
     "metadata": {},
     "output_type": "execute_result"
    }
   ],
   "source": [
    "email.utils.parseaddr(email_message['From'])"
   ]
  },
  {
   "cell_type": "code",
   "execution_count": 24,
   "metadata": {},
   "outputs": [],
   "source": [
    "# Retrieving the payload of the text\n",
    "email_type = email_message.get_content_maintype()"
   ]
  },
  {
   "cell_type": "code",
   "execution_count": 25,
   "metadata": {},
   "outputs": [],
   "source": [
    "if email_type == 'multipart':\n",
    "    for part in email_message.get_payload():\n",
    "        if part.get_content_type() == 'text/plain':\n",
    "            payload = part.get_payload()\n",
    "        elif email_type == 'text':\n",
    "            payload = email_message.get_payload()"
   ]
  },
  {
   "cell_type": "code",
   "execution_count": 26,
   "metadata": {},
   "outputs": [
    {
     "name": "stdout",
     "output_type": "stream",
     "text": [
      "Got it, thanks!\n",
      "\n",
      "On Wed, Feb 21, 2024, 2:50 PM <kennedymungaifmab@gmail.com> wrote:\n",
      "\n",
      "> Hi!\n",
      "> This is the HTML version linking to Wikipedia <https://www.wikipedia.com>\n",
      ">\n",
      "\n"
     ]
    }
   ],
   "source": [
    "print(payload)"
   ]
  }
 ],
 "metadata": {
  "kernelspec": {
   "display_name": "venv",
   "language": "python",
   "name": "python3"
  },
  "language_info": {
   "codemirror_mode": {
    "name": "ipython",
    "version": 3
   },
   "file_extension": ".py",
   "mimetype": "text/x-python",
   "name": "python",
   "nbconvert_exporter": "python",
   "pygments_lexer": "ipython3",
   "version": "3.12.2"
  }
 },
 "nbformat": 4,
 "nbformat_minor": 2
}
