{
 "cells": [
  {
   "cell_type": "markdown",
   "metadata": {},
   "source": [
    "<h3>Automation Intro</h3>\n"
   ]
  },
  {
   "cell_type": "markdown",
   "metadata": {},
   "source": [
    "<p>Creating Strings with Formatted Values</p>\n"
   ]
  },
  {
   "cell_type": "code",
   "execution_count": 1,
   "metadata": {},
   "outputs": [],
   "source": [
    "data = [\n",
    "    (1000, 10),\n",
    "    (2000, 17),\n",
    "    (2500, 170),\n",
    "    (2500, -170),\n",
    "]"
   ]
  },
  {
   "cell_type": "code",
   "execution_count": 2,
   "metadata": {},
   "outputs": [
    {
     "name": "stdout",
     "output_type": "stream",
     "text": [
      "REVENUE | PROFIT | PERCENT\n"
     ]
    }
   ],
   "source": [
    "print('REVENUE | PROFIT | PERCENT')\n",
    "\n",
    "TEMPLATE = '{revenue:>7} | {profit:>+6} | {percent:>7.2%}'"
   ]
  },
  {
   "cell_type": "code",
   "execution_count": 3,
   "metadata": {},
   "outputs": [
    {
     "name": "stdout",
     "output_type": "stream",
     "text": [
      "   1000 |    +10 |   1.00%\n",
      "   2000 |    +17 |   0.85%\n",
      "   2500 |   +170 |   6.80%\n",
      "   2500 |   -170 |  -6.80%\n"
     ]
    }
   ],
   "source": [
    "for revenue, profit in data:\n",
    "    row = TEMPLATE.format(revenue=revenue, profit=profit,\n",
    "                          percent=profit / revenue)\n",
    "    print(row)"
   ]
  },
  {
   "cell_type": "markdown",
   "metadata": {},
   "source": [
    "<p>Manipulating Strings</p>\n"
   ]
  },
  {
   "cell_type": "code",
   "execution_count": 4,
   "metadata": {},
   "outputs": [],
   "source": [
    "INPUT_TEXT = \"\"\"\n",
    "    AFTER THE CLOSE OF THE SECOND QUARTER, OUR COMPANY , \n",
    "    CASTANACORP HAS ACHIEVED A GROWTH IN THE REVENUE OF 7.47%. \n",
    "    THIS IS IN LINE WITH THE OBJECTIVES FOR THE YEAR. \n",
    "    THE MAIN DRIVER OF THE SALES HAS BEEN THE NEW PACKAGE DESIGNED \n",
    "    UNDER THE SUPERVISION OF OUR MARKETING DEPARTMENT. \n",
    "    OUR EXPENSES HAVE BEEN CONTAINED, INCREASING ONLY BY 0.7%, \n",
    "    THOUGH THE BOARD CONSIDERS ITS NEEDS TO BE FURTHER REDUCED. \n",
    "    THE EVALUATION IS SATISFACTORY AND THE FORECAST FOR THE NEXT QUARTER IS OPTIMISTIC. \n",
    "    THE BOARD EXPECTS AN INCREASE IN PROFIT OF AT LEAST 2 MILLION DOLLARS\n",
    "\"\"\""
   ]
  },
  {
   "cell_type": "code",
   "execution_count": 5,
   "metadata": {},
   "outputs": [
    {
     "data": {
      "text/plain": [
       "['AFTER',\n",
       " 'THE',\n",
       " 'CLOSE',\n",
       " 'OF',\n",
       " 'THE',\n",
       " 'SECOND',\n",
       " 'QUARTER,',\n",
       " 'OUR',\n",
       " 'COMPANY',\n",
       " ',',\n",
       " 'CASTANACORP',\n",
       " 'HAS',\n",
       " 'ACHIEVED',\n",
       " 'A',\n",
       " 'GROWTH',\n",
       " 'IN',\n",
       " 'THE',\n",
       " 'REVENUE',\n",
       " 'OF',\n",
       " '7.47%.',\n",
       " 'THIS',\n",
       " 'IS',\n",
       " 'IN',\n",
       " 'LINE',\n",
       " 'WITH',\n",
       " 'THE',\n",
       " 'OBJECTIVES',\n",
       " 'FOR',\n",
       " 'THE',\n",
       " 'YEAR.',\n",
       " 'THE',\n",
       " 'MAIN',\n",
       " 'DRIVER',\n",
       " 'OF',\n",
       " 'THE',\n",
       " 'SALES',\n",
       " 'HAS',\n",
       " 'BEEN',\n",
       " 'THE',\n",
       " 'NEW',\n",
       " 'PACKAGE',\n",
       " 'DESIGNED',\n",
       " 'UNDER',\n",
       " 'THE',\n",
       " 'SUPERVISION',\n",
       " 'OF',\n",
       " 'OUR',\n",
       " 'MARKETING',\n",
       " 'DEPARTMENT.',\n",
       " 'OUR',\n",
       " 'EXPENSES',\n",
       " 'HAVE',\n",
       " 'BEEN',\n",
       " 'CONTAINED,',\n",
       " 'INCREASING',\n",
       " 'ONLY',\n",
       " 'BY',\n",
       " '0.7%,',\n",
       " 'THOUGH',\n",
       " 'THE',\n",
       " 'BOARD',\n",
       " 'CONSIDERS',\n",
       " 'ITS',\n",
       " 'NEEDS',\n",
       " 'TO',\n",
       " 'BE',\n",
       " 'FURTHER',\n",
       " 'REDUCED.',\n",
       " 'THE',\n",
       " 'EVALUATION',\n",
       " 'IS',\n",
       " 'SATISFACTORY',\n",
       " 'AND',\n",
       " 'THE',\n",
       " 'FORECAST',\n",
       " 'FOR',\n",
       " 'THE',\n",
       " 'NEXT',\n",
       " 'QUARTER',\n",
       " 'IS',\n",
       " 'OPTIMISTIC.',\n",
       " 'THE',\n",
       " 'BOARD',\n",
       " 'EXPECTS',\n",
       " 'AN',\n",
       " 'INCREASE',\n",
       " 'IN',\n",
       " 'PROFIT',\n",
       " 'OF',\n",
       " 'AT',\n",
       " 'LEAST',\n",
       " '2',\n",
       " 'MILLION',\n",
       " 'DOLLARS']"
      ]
     },
     "execution_count": 5,
     "metadata": {},
     "output_type": "execute_result"
    }
   ],
   "source": [
    "words = INPUT_TEXT.split()\n",
    "words"
   ]
  },
  {
   "cell_type": "code",
   "execution_count": 6,
   "metadata": {},
   "outputs": [
    {
     "data": {
      "text/plain": [
       "['AFTER',\n",
       " 'THE',\n",
       " 'CLOSE',\n",
       " 'OF',\n",
       " 'THE',\n",
       " 'SECOND',\n",
       " 'QUARTER,',\n",
       " 'OUR',\n",
       " 'COMPANY',\n",
       " ',',\n",
       " 'CASTANACORP',\n",
       " 'HAS',\n",
       " 'ACHIEVED',\n",
       " 'A',\n",
       " 'GROWTH',\n",
       " 'IN',\n",
       " 'THE',\n",
       " 'REVENUE',\n",
       " 'OF',\n",
       " 'X.XX%.',\n",
       " 'THIS',\n",
       " 'IS',\n",
       " 'IN',\n",
       " 'LINE',\n",
       " 'WITH',\n",
       " 'THE',\n",
       " 'OBJECTIVES',\n",
       " 'FOR',\n",
       " 'THE',\n",
       " 'YEAR.',\n",
       " 'THE',\n",
       " 'MAIN',\n",
       " 'DRIVER',\n",
       " 'OF',\n",
       " 'THE',\n",
       " 'SALES',\n",
       " 'HAS',\n",
       " 'BEEN',\n",
       " 'THE',\n",
       " 'NEW',\n",
       " 'PACKAGE',\n",
       " 'DESIGNED',\n",
       " 'UNDER',\n",
       " 'THE',\n",
       " 'SUPERVISION',\n",
       " 'OF',\n",
       " 'OUR',\n",
       " 'MARKETING',\n",
       " 'DEPARTMENT.',\n",
       " 'OUR',\n",
       " 'EXPENSES',\n",
       " 'HAVE',\n",
       " 'BEEN',\n",
       " 'CONTAINED,',\n",
       " 'INCREASING',\n",
       " 'ONLY',\n",
       " 'BY',\n",
       " 'X.X%,',\n",
       " 'THOUGH',\n",
       " 'THE',\n",
       " 'BOARD',\n",
       " 'CONSIDERS',\n",
       " 'ITS',\n",
       " 'NEEDS',\n",
       " 'TO',\n",
       " 'BE',\n",
       " 'FURTHER',\n",
       " 'REDUCED.',\n",
       " 'THE',\n",
       " 'EVALUATION',\n",
       " 'IS',\n",
       " 'SATISFACTORY',\n",
       " 'AND',\n",
       " 'THE',\n",
       " 'FORECAST',\n",
       " 'FOR',\n",
       " 'THE',\n",
       " 'NEXT',\n",
       " 'QUARTER',\n",
       " 'IS',\n",
       " 'OPTIMISTIC.',\n",
       " 'THE',\n",
       " 'BOARD',\n",
       " 'EXPECTS',\n",
       " 'AN',\n",
       " 'INCREASE',\n",
       " 'IN',\n",
       " 'PROFIT',\n",
       " 'OF',\n",
       " 'AT',\n",
       " 'LEAST',\n",
       " 'X',\n",
       " 'MILLION',\n",
       " 'DOLLARS']"
      ]
     },
     "execution_count": 6,
     "metadata": {},
     "output_type": "execute_result"
    }
   ],
   "source": [
    "redacted = [''.join('X' if w.isdigit() else w for w in word) for word in words]\n",
    "redacted"
   ]
  },
  {
   "cell_type": "code",
   "execution_count": 7,
   "metadata": {},
   "outputs": [
    {
     "data": {
      "text/plain": [
       "['AFTER',\n",
       " 'THE',\n",
       " 'CLOSE',\n",
       " 'OF',\n",
       " 'THE',\n",
       " 'SECOND',\n",
       " 'QUARTER,',\n",
       " 'OUR',\n",
       " 'COMPANY',\n",
       " ',',\n",
       " 'CASTANACORP',\n",
       " 'HAS',\n",
       " 'ACHIEVED',\n",
       " 'A',\n",
       " 'GROWTH',\n",
       " 'IN',\n",
       " 'THE',\n",
       " 'REVENUE',\n",
       " 'OF',\n",
       " 'X.XX%.',\n",
       " 'THIS',\n",
       " 'IS',\n",
       " 'IN',\n",
       " 'LINE',\n",
       " 'WITH',\n",
       " 'THE',\n",
       " 'OBJECTIVES',\n",
       " 'FOR',\n",
       " 'THE',\n",
       " 'YEAR.',\n",
       " 'THE',\n",
       " 'MAIN',\n",
       " 'DRIVER',\n",
       " 'OF',\n",
       " 'THE',\n",
       " 'SALES',\n",
       " 'HAS',\n",
       " 'BEEN',\n",
       " 'THE',\n",
       " 'NEW',\n",
       " 'PACKAGE',\n",
       " 'DESIGNED',\n",
       " 'UNDER',\n",
       " 'THE',\n",
       " 'SUPERVISION',\n",
       " 'OF',\n",
       " 'OUR',\n",
       " 'MARKETING',\n",
       " 'DEPARTMENT.',\n",
       " 'OUR',\n",
       " 'EXPENSES',\n",
       " 'HAVE',\n",
       " 'BEEN',\n",
       " 'CONTAINED,',\n",
       " 'INCREASING',\n",
       " 'ONLY',\n",
       " 'BY',\n",
       " 'X.X%,',\n",
       " 'THOUGH',\n",
       " 'THE',\n",
       " 'BOARD',\n",
       " 'CONSIDERS',\n",
       " 'ITS',\n",
       " 'NEEDS',\n",
       " 'TO',\n",
       " 'BE',\n",
       " 'FURTHER',\n",
       " 'REDUCED.',\n",
       " 'THE',\n",
       " 'EVALUATION',\n",
       " 'IS',\n",
       " 'SATISFACTORY',\n",
       " 'AND',\n",
       " 'THE',\n",
       " 'FORECAST',\n",
       " 'FOR',\n",
       " 'THE',\n",
       " 'NEXT',\n",
       " 'QUARTER',\n",
       " 'IS',\n",
       " 'OPTIMISTIC.',\n",
       " 'THE',\n",
       " 'BOARD',\n",
       " 'EXPECTS',\n",
       " 'AN',\n",
       " 'INCREASE',\n",
       " 'IN',\n",
       " 'PROFIT',\n",
       " 'OF',\n",
       " 'AT',\n",
       " 'LEAST',\n",
       " 'X',\n",
       " 'MILLION',\n",
       " 'DOLLARS']"
      ]
     },
     "execution_count": 7,
     "metadata": {},
     "output_type": "execute_result"
    }
   ],
   "source": [
    "ascii_text = [word.encode('ascii', errors='replace').decode(\n",
    "    'ascii') for word in redacted]\n",
    "ascii_text"
   ]
  },
  {
   "cell_type": "code",
   "execution_count": 8,
   "metadata": {},
   "outputs": [
    {
     "data": {
      "text/plain": [
       "['AFTER',\n",
       " 'THE',\n",
       " 'CLOSE',\n",
       " 'OF',\n",
       " 'THE',\n",
       " 'SECOND',\n",
       " 'QUARTER,',\n",
       " 'OUR',\n",
       " 'COMPANY',\n",
       " ',',\n",
       " 'CASTANACORP',\n",
       " 'HAS',\n",
       " 'ACHIEVED',\n",
       " 'A',\n",
       " 'GROWTH',\n",
       " 'IN',\n",
       " 'THE',\n",
       " 'REVENUE',\n",
       " 'OF',\n",
       " 'X.XX%.\\n',\n",
       " 'THIS',\n",
       " 'IS',\n",
       " 'IN',\n",
       " 'LINE',\n",
       " 'WITH',\n",
       " 'THE',\n",
       " 'OBJECTIVES',\n",
       " 'FOR',\n",
       " 'THE',\n",
       " 'YEAR.\\n',\n",
       " 'THE',\n",
       " 'MAIN',\n",
       " 'DRIVER',\n",
       " 'OF',\n",
       " 'THE',\n",
       " 'SALES',\n",
       " 'HAS',\n",
       " 'BEEN',\n",
       " 'THE',\n",
       " 'NEW',\n",
       " 'PACKAGE',\n",
       " 'DESIGNED',\n",
       " 'UNDER',\n",
       " 'THE',\n",
       " 'SUPERVISION',\n",
       " 'OF',\n",
       " 'OUR',\n",
       " 'MARKETING',\n",
       " 'DEPARTMENT.\\n',\n",
       " 'OUR',\n",
       " 'EXPENSES',\n",
       " 'HAVE',\n",
       " 'BEEN',\n",
       " 'CONTAINED,',\n",
       " 'INCREASING',\n",
       " 'ONLY',\n",
       " 'BY',\n",
       " 'X.X%,',\n",
       " 'THOUGH',\n",
       " 'THE',\n",
       " 'BOARD',\n",
       " 'CONSIDERS',\n",
       " 'ITS',\n",
       " 'NEEDS',\n",
       " 'TO',\n",
       " 'BE',\n",
       " 'FURTHER',\n",
       " 'REDUCED.\\n',\n",
       " 'THE',\n",
       " 'EVALUATION',\n",
       " 'IS',\n",
       " 'SATISFACTORY',\n",
       " 'AND',\n",
       " 'THE',\n",
       " 'FORECAST',\n",
       " 'FOR',\n",
       " 'THE',\n",
       " 'NEXT',\n",
       " 'QUARTER',\n",
       " 'IS',\n",
       " 'OPTIMISTIC.\\n',\n",
       " 'THE',\n",
       " 'BOARD',\n",
       " 'EXPECTS',\n",
       " 'AN',\n",
       " 'INCREASE',\n",
       " 'IN',\n",
       " 'PROFIT',\n",
       " 'OF',\n",
       " 'AT',\n",
       " 'LEAST',\n",
       " 'X',\n",
       " 'MILLION',\n",
       " 'DOLLARS']"
      ]
     },
     "execution_count": 8,
     "metadata": {},
     "output_type": "execute_result"
    }
   ],
   "source": [
    "# Group the words into 80 character lines\n",
    "newlines = [word + '\\n' if word.endswith('.') else word for word in ascii_text]\n",
    "newlines"
   ]
  },
  {
   "cell_type": "code",
   "execution_count": 9,
   "metadata": {},
   "outputs": [],
   "source": [
    "LINE_SIZE = 80\n",
    "lines = []\n",
    "line = ''"
   ]
  },
  {
   "cell_type": "code",
   "execution_count": 10,
   "metadata": {},
   "outputs": [],
   "source": [
    "for word in newlines:\n",
    "    if line.endswith('\\n') or len(line) + len(word) + 1 > LINE_SIZE:\n",
    "        lines.append(line)\n",
    "        line = ''\n",
    "        line = line + ' ' + word"
   ]
  },
  {
   "cell_type": "code",
   "execution_count": 11,
   "metadata": {},
   "outputs": [],
   "source": [
    "# Format all the lines as titles and join them as a single piece of text\n",
    "lines = [line.title() for line in lines]\n",
    "result = '\\n'.join(lines)"
   ]
  },
  {
   "cell_type": "code",
   "execution_count": 14,
   "metadata": {},
   "outputs": [
    {
     "name": "stdout",
     "output_type": "stream",
     "text": [
      "\n"
     ]
    }
   ],
   "source": [
    "print(result)"
   ]
  },
  {
   "cell_type": "markdown",
   "metadata": {},
   "source": [
    "<p>Extracting Data from Structured Strings</p>\n"
   ]
  },
  {
   "cell_type": "code",
   "execution_count": 15,
   "metadata": {},
   "outputs": [],
   "source": [
    "import delorean\n",
    "from decimal import Decimal"
   ]
  },
  {
   "cell_type": "code",
   "execution_count": 16,
   "metadata": {},
   "outputs": [],
   "source": [
    "log = '[2018-05-05T11:07:12.267897] - SALE - PRODUCT: 1345 - PRICE: $09.99'"
   ]
  },
  {
   "cell_type": "code",
   "execution_count": 24,
   "metadata": {},
   "outputs": [
    {
     "data": {
      "text/plain": [
       "['[2018-05-05T11:07:12.267897]', 'SALE', 'PRODUCT: 1345', 'PRICE: $09.99']"
      ]
     },
     "execution_count": 24,
     "metadata": {},
     "output_type": "execute_result"
    }
   ],
   "source": [
    "# Splitting the log into its parts which are divided by the dashes\n",
    "divide_it = log.split(\" - \")\n",
    "divide_it"
   ]
  },
  {
   "cell_type": "code",
   "execution_count": 25,
   "metadata": {},
   "outputs": [],
   "source": [
    "timestamp_string, _, product_string, price_string = divide_it"
   ]
  },
  {
   "cell_type": "code",
   "execution_count": 26,
   "metadata": {},
   "outputs": [
    {
     "data": {
      "text/plain": [
       "Delorean(datetime=datetime.datetime(2018, 5, 5, 11, 7, 12, 267897), timezone='UTC')"
      ]
     },
     "execution_count": 26,
     "metadata": {},
     "output_type": "execute_result"
    }
   ],
   "source": [
    "timestamp = delorean.parse(timestamp_string.strip('[]'))\n",
    "timestamp"
   ]
  },
  {
   "cell_type": "code",
   "execution_count": 27,
   "metadata": {},
   "outputs": [
    {
     "data": {
      "text/plain": [
       "1345"
      ]
     },
     "execution_count": 27,
     "metadata": {},
     "output_type": "execute_result"
    }
   ],
   "source": [
    "product_id = int(product_string.split(':')[-1])\n",
    "product_id"
   ]
  },
  {
   "cell_type": "code",
   "execution_count": 28,
   "metadata": {},
   "outputs": [
    {
     "data": {
      "text/plain": [
       "Decimal('9.99')"
      ]
     },
     "execution_count": 28,
     "metadata": {},
     "output_type": "execute_result"
    }
   ],
   "source": [
    "price = Decimal(price_string.split('$')[-1])\n",
    "price"
   ]
  },
  {
   "cell_type": "code",
   "execution_count": 29,
   "metadata": {},
   "outputs": [
    {
     "data": {
      "text/plain": [
       "(Delorean(datetime=datetime.datetime(2018, 5, 5, 11, 7, 12, 267897), timezone='UTC'),\n",
       " 1345,\n",
       " Decimal('9.99'))"
      ]
     },
     "execution_count": 29,
     "metadata": {},
     "output_type": "execute_result"
    }
   ],
   "source": [
    "timestamp, product_id, price"
   ]
  },
  {
   "cell_type": "code",
   "execution_count": null,
   "metadata": {},
   "outputs": [],
   "source": [
    "class PriceLog(object):\n",
    "    def __init__(self, timestamp, product_id, price):\n",
    "        self.timestamp = timestamp\n",
    "        self.product_id = product_id\n",
    "        self.price = price\n",
    "\n",
    "    def __repr__(self) -> str:\n",
    "        return '<PriceLog ({}, {}, {})>'.format(\n",
    "            self.timestamp,\n",
    "            self.product_id,\n",
    "            self.price\n",
    "        )\n",
    "        \n",
    "    @classmethod\n",
    "    def parse(cls, text_log):\n",
    "        \"\"\"A method to parse the log file\n",
    "\n",
    "        Args:\n",
    "            text_log (String): The text being parsed\n",
    "\n",
    "        Returns:\n",
    "            String: The parsed string\n",
    "        \"\"\"\n",
    "        divide_it = text_log.split(' - ')\n",
    "        tmp_string, _, product_string, price_string = divide_it\n",
    "        timestamp = delorean.parse(tmp_string.strip('[]'))\n",
    "        product_id = int(product_string.split(':')[-1])\n",
    "        price = Decimal(price_string.split('$')[-1])\n",
    "\n",
    "        return cls(timestamp=timestamp, product_id=product_id, price=price)"
   ]
  },
  {
   "cell_type": "markdown",
   "metadata": {},
   "source": [
    "<p>Using parse</p>"
   ]
  },
  {
   "cell_type": "code",
   "execution_count": 30,
   "metadata": {},
   "outputs": [],
   "source": [
    "from parse import parse"
   ]
  },
  {
   "cell_type": "code",
   "execution_count": 31,
   "metadata": {},
   "outputs": [],
   "source": [
    "LOG = '[2018-05-06T12:58:00.714611] - SALE - PRODUCT: 1345 - PRICE: $09.99'"
   ]
  },
  {
   "cell_type": "code",
   "execution_count": 32,
   "metadata": {},
   "outputs": [],
   "source": [
    "FORMAT = '[{date}] - SALE - PRODUCT: {product} - PRICE: ${price}'"
   ]
  },
  {
   "cell_type": "code",
   "execution_count": 33,
   "metadata": {},
   "outputs": [
    {
     "data": {
      "text/plain": [
       "<Result () {'date': '2018-05-06T12:58:00.714611', 'product': '1345', 'price': '09.99'}>"
      ]
     },
     "execution_count": 33,
     "metadata": {},
     "output_type": "execute_result"
    }
   ],
   "source": [
    "result = parse(FORMAT, LOG)\n",
    "result"
   ]
  },
  {
   "cell_type": "code",
   "execution_count": 35,
   "metadata": {},
   "outputs": [
    {
     "data": {
      "text/plain": [
       "'2018-05-06T12:58:00.714611'"
      ]
     },
     "execution_count": 35,
     "metadata": {},
     "output_type": "execute_result"
    }
   ],
   "source": [
    "result['date']"
   ]
  },
  {
   "cell_type": "code",
   "execution_count": 36,
   "metadata": {},
   "outputs": [
    {
     "data": {
      "text/plain": [
       "'1345'"
      ]
     },
     "execution_count": 36,
     "metadata": {},
     "output_type": "execute_result"
    }
   ],
   "source": [
    "result['product']"
   ]
  },
  {
   "cell_type": "code",
   "execution_count": 37,
   "metadata": {},
   "outputs": [
    {
     "data": {
      "text/plain": [
       "'09.99'"
      ]
     },
     "execution_count": 37,
     "metadata": {},
     "output_type": "execute_result"
    }
   ],
   "source": [
    "result['price']"
   ]
  },
  {
   "cell_type": "code",
   "execution_count": 38,
   "metadata": {},
   "outputs": [],
   "source": [
    "FORMAT = '[{date:ti}] - SALE - PRODUCT: {product:d} - PRICE: ${price:05.2f}'"
   ]
  },
  {
   "cell_type": "code",
   "execution_count": 39,
   "metadata": {},
   "outputs": [
    {
     "data": {
      "text/plain": [
       "<Result () {'date': datetime.datetime(2018, 5, 6, 12, 58, 0, 714611), 'product': 1345, 'price': 9.99}>"
      ]
     },
     "execution_count": 39,
     "metadata": {},
     "output_type": "execute_result"
    }
   ],
   "source": [
    "result = parse(FORMAT, LOG)\n",
    "result"
   ]
  }
 ],
 "metadata": {
  "kernelspec": {
   "display_name": "venv",
   "language": "python",
   "name": "python3"
  },
  "language_info": {
   "codemirror_mode": {
    "name": "ipython",
    "version": 3
   },
   "file_extension": ".py",
   "mimetype": "text/x-python",
   "name": "python",
   "nbconvert_exporter": "python",
   "pygments_lexer": "ipython3",
   "version": "3.12.2"
  }
 },
 "nbformat": 4,
 "nbformat_minor": 2
}
