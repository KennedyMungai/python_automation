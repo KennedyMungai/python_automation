{
 "cells": [
  {
   "cell_type": "markdown",
   "metadata": {},
   "source": [
    "<h3>Searching and Reading Local Files</h3>"
   ]
  },
  {
   "cell_type": "code",
   "execution_count": 1,
   "metadata": {},
   "outputs": [],
   "source": [
    "import os"
   ]
  },
  {
   "cell_type": "code",
   "execution_count": 3,
   "metadata": {},
   "outputs": [
    {
     "name": "stdout",
     "output_type": "stream",
     "text": [
      "file1.txt\n",
      "file2.txt\n",
      "file6.pdf\n",
      "file3.txt\n",
      "file4.txt\n",
      "file5.pdf\n"
     ]
    }
   ],
   "source": [
    "for root, dirs, files in os.walk('./dir'):\n",
    "    for file in files:\n",
    "        print(file)"
   ]
  },
  {
   "cell_type": "code",
   "execution_count": 4,
   "metadata": {},
   "outputs": [
    {
     "name": "stdout",
     "output_type": "stream",
     "text": [
      "./dir\\file1.txt\n",
      "./dir\\file2.txt\n",
      "./dir\\file6.pdf\n",
      "./dir\\subdir\\file3.txt\n",
      "./dir\\subdir\\file4.txt\n",
      "./dir\\subdir\\file5.pdf\n"
     ]
    }
   ],
   "source": [
    "for root, dirs, files in os.walk('./dir'):\n",
    "    for file in files:\n",
    "        full_file_path = os.path.join(root, file)\n",
    "        print(full_file_path)"
   ]
  },
  {
   "cell_type": "code",
   "execution_count": 5,
   "metadata": {},
   "outputs": [
    {
     "name": "stdout",
     "output_type": "stream",
     "text": [
      "./dir\\file6.pdf\n",
      "./dir\\subdir\\file5.pdf\n"
     ]
    }
   ],
   "source": [
    "for root, dirs, files in os.walk('./dir'):\n",
    "    for file in files:\n",
    "        if file.endswith('.pdf'):\n",
    "            full_file_path = os.path.join(root, file)\n",
    "            print(full_file_path)"
   ]
  },
  {
   "cell_type": "code",
   "execution_count": 6,
   "metadata": {},
   "outputs": [
    {
     "name": "stdout",
     "output_type": "stream",
     "text": [
      "./dir\\file1.txt\n",
      "./dir\\subdir\\file3.txt\n",
      "./dir\\subdir\\file5.pdf\n"
     ]
    }
   ],
   "source": [
    "# Print only files that contain an even number\n",
    "import re\n",
    "\n",
    "for root, dirs, files in os.walk('./dir'):\n",
    "    for file in files:\n",
    "        if re.search(r'[13579]', file):\n",
    "            full_file_path = os.path.join(root, file)\n",
    "            print(full_file_path)"
   ]
  },
  {
   "cell_type": "code",
   "execution_count": 8,
   "metadata": {},
   "outputs": [
    {
     "name": "stdout",
     "output_type": "stream",
     "text": [
      "The Zen of Python, by Tim Peters\n",
      "\n",
      "\n",
      "\n",
      "Beautiful is better than ugly.\n",
      "\n",
      "Explicit is better than implicit.\n",
      "\n",
      "Simple is better than complex.\n",
      "\n",
      "Complex is better than complicated.\n",
      "\n",
      "Flat is better than nested.\n",
      "\n",
      "Sparse is better than dense.\n",
      "\n",
      "Readability counts.\n",
      "\n",
      "Special cases aren't special enough to break the rules.\n",
      "\n",
      "Although practicality beats purity.\n",
      "\n",
      "Errors should never pass silently.\n",
      "\n",
      "Unless explicitly silenced.\n",
      "\n",
      "In the face of ambiguity, refuse the temptation to guess.\n",
      "\n",
      "There should be one-- and preferably only one --obvious way to do it.\n",
      "\n",
      "Although that way may not be obvious at first unless you're Dutch.\n",
      "\n",
      "Now is better than never.\n",
      "\n",
      "Although never is often better than *right* now.\n",
      "\n",
      "If the implementation is hard to explain, it's a bad idea.\n",
      "\n",
      "If the implementation is easy to explain, it may be a good idea.\n",
      "\n",
      "Namespaces are one honking great idea -- let's do more of those!\n"
     ]
    }
   ],
   "source": [
    "with open('./the-zen-of-python.txt') as file:\n",
    "    for line in file:\n",
    "        print(line)"
   ]
  },
  {
   "cell_type": "code",
   "execution_count": 9,
   "metadata": {},
   "outputs": [
    {
     "name": "stdout",
     "output_type": "stream",
     "text": [
      "Errors should never pass silently.\n",
      "\n",
      "There should be one-- and preferably only one --obvious way to do it.\n",
      "\n"
     ]
    }
   ],
   "source": [
    "with open('./the-zen-of-python.txt', 'r') as file:\n",
    "    for line in file:\n",
    "        if 'should' in line.lower():\n",
    "            print(line)"
   ]
  },
  {
   "cell_type": "code",
   "execution_count": 10,
   "metadata": {},
   "outputs": [
    {
     "name": "stdout",
     "output_type": "stream",
     "text": [
      "Beautiful is better than ugly.\n",
      "\n"
     ]
    }
   ],
   "source": [
    "with open('./the-zen-of-python.txt', 'rt') as file:\n",
    "    for line in file:\n",
    "        if 'better' in line.lower():\n",
    "            print(line)\n",
    "            break"
   ]
  }
 ],
 "metadata": {
  "kernelspec": {
   "display_name": "venv",
   "language": "python",
   "name": "python3"
  },
  "language_info": {
   "codemirror_mode": {
    "name": "ipython",
    "version": 3
   },
   "file_extension": ".py",
   "mimetype": "text/x-python",
   "name": "python",
   "nbconvert_exporter": "python",
   "pygments_lexer": "ipython3",
   "version": "3.12.2"
  }
 },
 "nbformat": 4,
 "nbformat_minor": 2
}
