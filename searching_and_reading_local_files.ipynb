{
 "cells": [
  {
   "cell_type": "markdown",
   "metadata": {},
   "source": [
    "<h3>Searching and Reading Local Files</h3>"
   ]
  },
  {
   "cell_type": "code",
   "execution_count": 1,
   "metadata": {},
   "outputs": [],
   "source": [
    "import os"
   ]
  },
  {
   "cell_type": "code",
   "execution_count": 3,
   "metadata": {},
   "outputs": [
    {
     "name": "stdout",
     "output_type": "stream",
     "text": [
      "file1.txt\n",
      "file2.txt\n",
      "file6.pdf\n",
      "file3.txt\n",
      "file4.txt\n",
      "file5.pdf\n"
     ]
    }
   ],
   "source": [
    "for root, dirs, files in os.walk('./dir'):\n",
    "    for file in files:\n",
    "        print(file)"
   ]
  },
  {
   "cell_type": "code",
   "execution_count": 4,
   "metadata": {},
   "outputs": [
    {
     "name": "stdout",
     "output_type": "stream",
     "text": [
      "./dir\\file1.txt\n",
      "./dir\\file2.txt\n",
      "./dir\\file6.pdf\n",
      "./dir\\subdir\\file3.txt\n",
      "./dir\\subdir\\file4.txt\n",
      "./dir\\subdir\\file5.pdf\n"
     ]
    }
   ],
   "source": [
    "for root, dirs, files in os.walk('./dir'):\n",
    "    for file in files:\n",
    "        full_file_path = os.path.join(root, file)\n",
    "        print(full_file_path)"
   ]
  },
  {
   "cell_type": "code",
   "execution_count": 5,
   "metadata": {},
   "outputs": [
    {
     "name": "stdout",
     "output_type": "stream",
     "text": [
      "./dir\\file6.pdf\n",
      "./dir\\subdir\\file5.pdf\n"
     ]
    }
   ],
   "source": [
    "for root, dirs, files in os.walk('./dir'):\n",
    "    for file in files:\n",
    "        if file.endswith('.pdf'):\n",
    "            full_file_path = os.path.join(root, file)\n",
    "            print(full_file_path)"
   ]
  },
  {
   "cell_type": "code",
   "execution_count": 6,
   "metadata": {},
   "outputs": [
    {
     "name": "stdout",
     "output_type": "stream",
     "text": [
      "./dir\\file1.txt\n",
      "./dir\\subdir\\file3.txt\n",
      "./dir\\subdir\\file5.pdf\n"
     ]
    }
   ],
   "source": [
    "# Print only files that contain an even number\n",
    "import re\n",
    "\n",
    "for root, dirs, files in os.walk('./dir'):\n",
    "    for file in files:\n",
    "        if re.search(r'[13579]', file):\n",
    "            full_file_path = os.path.join(root, file)\n",
    "            print(full_file_path)"
   ]
  },
  {
   "cell_type": "code",
   "execution_count": 8,
   "metadata": {},
   "outputs": [
    {
     "name": "stdout",
     "output_type": "stream",
     "text": [
      "The Zen of Python, by Tim Peters\n",
      "\n",
      "\n",
      "\n",
      "Beautiful is better than ugly.\n",
      "\n",
      "Explicit is better than implicit.\n",
      "\n",
      "Simple is better than complex.\n",
      "\n",
      "Complex is better than complicated.\n",
      "\n",
      "Flat is better than nested.\n",
      "\n",
      "Sparse is better than dense.\n",
      "\n",
      "Readability counts.\n",
      "\n",
      "Special cases aren't special enough to break the rules.\n",
      "\n",
      "Although practicality beats purity.\n",
      "\n",
      "Errors should never pass silently.\n",
      "\n",
      "Unless explicitly silenced.\n",
      "\n",
      "In the face of ambiguity, refuse the temptation to guess.\n",
      "\n",
      "There should be one-- and preferably only one --obvious way to do it.\n",
      "\n",
      "Although that way may not be obvious at first unless you're Dutch.\n",
      "\n",
      "Now is better than never.\n",
      "\n",
      "Although never is often better than *right* now.\n",
      "\n",
      "If the implementation is hard to explain, it's a bad idea.\n",
      "\n",
      "If the implementation is easy to explain, it may be a good idea.\n",
      "\n",
      "Namespaces are one honking great idea -- let's do more of those!\n"
     ]
    }
   ],
   "source": [
    "with open('./the-zen-of-python.txt') as file:\n",
    "    for line in file:\n",
    "        print(line)"
   ]
  },
  {
   "cell_type": "code",
   "execution_count": 9,
   "metadata": {},
   "outputs": [
    {
     "name": "stdout",
     "output_type": "stream",
     "text": [
      "Errors should never pass silently.\n",
      "\n",
      "There should be one-- and preferably only one --obvious way to do it.\n",
      "\n"
     ]
    }
   ],
   "source": [
    "with open('./the-zen-of-python.txt', 'r') as file:\n",
    "    for line in file:\n",
    "        if 'should' in line.lower():\n",
    "            print(line)"
   ]
  },
  {
   "cell_type": "code",
   "execution_count": 10,
   "metadata": {},
   "outputs": [
    {
     "name": "stdout",
     "output_type": "stream",
     "text": [
      "Beautiful is better than ugly.\n",
      "\n"
     ]
    }
   ],
   "source": [
    "with open('./the-zen-of-python.txt', 'rt') as file:\n",
    "    for line in file:\n",
    "        if 'better' in line.lower():\n",
    "            print(line)\n",
    "            break"
   ]
  },
  {
   "cell_type": "markdown",
   "metadata": {},
   "source": [
    "<p>Dealing with Encodings</p>"
   ]
  },
  {
   "cell_type": "code",
   "execution_count": 11,
   "metadata": {},
   "outputs": [
    {
     "name": "stdout",
     "output_type": "stream",
     "text": [
      "20Â£\n",
      "\n"
     ]
    }
   ],
   "source": [
    "with open('./example_utf8.txt') as file:\n",
    "    print(file.read())"
   ]
  },
  {
   "cell_type": "code",
   "execution_count": 12,
   "metadata": {},
   "outputs": [
    {
     "name": "stdout",
     "output_type": "stream",
     "text": [
      "20£\n"
     ]
    }
   ],
   "source": [
    "with open('./example_iso.txt') as file:\n",
    "    print(file.read())"
   ]
  },
  {
   "cell_type": "code",
   "execution_count": 13,
   "metadata": {},
   "outputs": [],
   "source": [
    "import csv"
   ]
  },
  {
   "cell_type": "code",
   "execution_count": 14,
   "metadata": {},
   "outputs": [
    {
     "name": "stdout",
     "output_type": "stream",
     "text": [
      "['Rank', 'Admissions\\n(millions)', 'Title (year) (studio)', 'Director(s)']\n",
      "['1', '225.7', 'Gone With the Wind (1939)Â\\xa0(MGM)', 'Victor Fleming, George Cukor, Sam Wood']\n",
      "['2', '194.4', 'Star Wars (Ep. IV: A New Hope) (1977)Â\\xa0(Fox)', 'George Lucas']\n",
      "['3', '161.0', 'ET: The Extra-Terrestrial (1982)Â\\xa0(Univ)', 'Steven Spielberg']\n",
      "['4', '156.4', 'The Sound of Music (1965)Â\\xa0(Fox)', 'Robert Wise']\n",
      "['5', '130.0', 'The Ten Commandments (1956)Â\\xa0(Para)', 'Cecil B. DeMille']\n",
      "['6', '128.4', 'Titanic (1997)Â\\xa0(Fox)', 'James Cameron']\n",
      "['7', '126.3', 'Snow White and the Seven Dwarfs (1937)Â\\xa0(BV)', 'David Hand']\n",
      "['8', '120.7', 'Jaws (1975)Â\\xa0(Univ)', 'Steven Spielberg']\n",
      "['9', '120.1', 'Doctor Zhivago (1965)Â\\xa0(MGM)', 'David Lean']\n",
      "['10', '118.9', 'The Lion King (1994)Â\\xa0(BV)', 'Roger Allers, Rob Minkoff']\n"
     ]
    }
   ],
   "source": [
    "with open('./top_films.csv') as file:\n",
    "    data = csv.reader(file)\n",
    "\n",
    "    for row in data:\n",
    "        print(row)"
   ]
  },
  {
   "cell_type": "code",
   "execution_count": 15,
   "metadata": {},
   "outputs": [],
   "source": [
    "with open('./top_films.csv') as file:\n",
    "    data = csv.DictReader(file)\n",
    "    structured_data = [row for row in data]"
   ]
  },
  {
   "cell_type": "code",
   "execution_count": 16,
   "metadata": {},
   "outputs": [
    {
     "data": {
      "text/plain": [
       "{'Rank': '1',\n",
       " 'Admissions\\n(millions)': '225.7',\n",
       " 'Title (year) (studio)': 'Gone With the Wind (1939)Â\\xa0(MGM)',\n",
       " 'Director(s)': 'Victor Fleming, George Cukor, Sam Wood'}"
      ]
     },
     "execution_count": 16,
     "metadata": {},
     "output_type": "execute_result"
    }
   ],
   "source": [
    "structured_data[0]"
   ]
  },
  {
   "cell_type": "code",
   "execution_count": 18,
   "metadata": {},
   "outputs": [
    {
     "name": "stdout",
     "output_type": "stream",
     "text": [
      "dict_keys(['Rank', 'Admissions\\n(millions)', 'Title (year) (studio)', 'Director(s)'])\n"
     ]
    }
   ],
   "source": [
    "print(structured_data[0].keys())"
   ]
  },
  {
   "cell_type": "code",
   "execution_count": 19,
   "metadata": {},
   "outputs": [
    {
     "data": {
      "text/plain": [
       "'1'"
      ]
     },
     "execution_count": 19,
     "metadata": {},
     "output_type": "execute_result"
    }
   ],
   "source": [
    "structured_data[0]['Rank']"
   ]
  },
  {
   "cell_type": "code",
   "execution_count": 20,
   "metadata": {},
   "outputs": [
    {
     "data": {
      "text/plain": [
       "'Victor Fleming, George Cukor, Sam Wood'"
      ]
     },
     "execution_count": 20,
     "metadata": {},
     "output_type": "execute_result"
    }
   ],
   "source": [
    "structured_data[0]['Director(s)']"
   ]
  },
  {
   "cell_type": "markdown",
   "metadata": {},
   "source": [
    "<p>Reading File Metadata</p>"
   ]
  },
  {
   "cell_type": "code",
   "execution_count": 21,
   "metadata": {},
   "outputs": [],
   "source": [
    "import os\n",
    "from datetime import datetime"
   ]
  },
  {
   "cell_type": "code",
   "execution_count": 22,
   "metadata": {},
   "outputs": [
    {
     "data": {
      "text/plain": [
       "os.stat_result(st_mode=33206, st_ino=6192449488455646, st_dev=5643012000884814925, st_nlink=1, st_uid=0, st_gid=0, st_size=856, st_atime=1708429619, st_mtime=1455069127, st_ctime=1708429323)"
      ]
     },
     "execution_count": 22,
     "metadata": {},
     "output_type": "execute_result"
    }
   ],
   "source": [
    "stats = os.stat(('./the-zen-of-python.txt'))\n",
    "stats"
   ]
  },
  {
   "cell_type": "code",
   "execution_count": 23,
   "metadata": {},
   "outputs": [
    {
     "data": {
      "text/plain": [
       "856"
      ]
     },
     "execution_count": 23,
     "metadata": {},
     "output_type": "execute_result"
    }
   ],
   "source": [
    "stats.st_size"
   ]
  },
  {
   "cell_type": "code",
   "execution_count": 24,
   "metadata": {},
   "outputs": [
    {
     "data": {
      "text/plain": [
       "datetime.datetime(2016, 2, 10, 4, 52, 7)"
      ]
     },
     "execution_count": 24,
     "metadata": {},
     "output_type": "execute_result"
    }
   ],
   "source": [
    "datetime.fromtimestamp(stats.st_mtime)"
   ]
  },
  {
   "cell_type": "markdown",
   "metadata": {},
   "source": [
    "<p>Reading Images</p>"
   ]
  },
  {
   "cell_type": "code",
   "execution_count": 25,
   "metadata": {},
   "outputs": [
    {
     "ename": "ModuleNotFoundError",
     "evalue": "No module named 'gps_conversion'",
     "output_type": "error",
     "traceback": [
      "\u001b[1;31m---------------------------------------------------------------------------\u001b[0m",
      "\u001b[1;31mModuleNotFoundError\u001b[0m                       Traceback (most recent call last)",
      "Cell \u001b[1;32mIn[25], line 4\u001b[0m\n\u001b[0;32m      2\u001b[0m \u001b[38;5;28;01mfrom\u001b[39;00m \u001b[38;5;21;01mPIL\u001b[39;00m\u001b[38;5;21;01m.\u001b[39;00m\u001b[38;5;21;01mExifTags\u001b[39;00m \u001b[38;5;28;01mimport\u001b[39;00m TAGS, GPSTAGS\n\u001b[0;32m      3\u001b[0m \u001b[38;5;28;01mimport\u001b[39;00m \u001b[38;5;21;01mxmltodict\u001b[39;00m\n\u001b[1;32m----> 4\u001b[0m \u001b[38;5;28;01mfrom\u001b[39;00m \u001b[38;5;21;01mgps_conversion\u001b[39;00m \u001b[38;5;28;01mimport\u001b[39;00m exif_to_deicmal, rdf_to_decimal\n",
      "\u001b[1;31mModuleNotFoundError\u001b[0m: No module named 'gps_conversion'"
     ]
    }
   ],
   "source": [
    "from PIL import Image\n",
    "from PIL.ExifTags import TAGS, GPSTAGS\n",
    "import xmltodict\n",
    "from gps_conversion import exif_to_decimal, rdf_to_decimal"
   ]
  },
  {
   "cell_type": "markdown",
   "metadata": {},
   "source": [
    "<p>Reading PDF Files</p>"
   ]
  },
  {
   "cell_type": "code",
   "execution_count": 28,
   "metadata": {},
   "outputs": [],
   "source": [
    "from PyPDF2 import PdfReader"
   ]
  },
  {
   "cell_type": "code",
   "execution_count": 29,
   "metadata": {},
   "outputs": [],
   "source": [
    "file = open('./documents/document-1.pdf', 'rb')\n",
    "document = PdfReader(file)"
   ]
  },
  {
   "cell_type": "code",
   "execution_count": 31,
   "metadata": {},
   "outputs": [
    {
     "data": {
      "text/plain": [
       "3"
      ]
     },
     "execution_count": 31,
     "metadata": {},
     "output_type": "execute_result"
    }
   ],
   "source": [
    "len(document.pages)"
   ]
  },
  {
   "cell_type": "code",
   "execution_count": 33,
   "metadata": {},
   "outputs": [
    {
     "data": {
      "text/plain": [
       "False"
      ]
     },
     "execution_count": 33,
     "metadata": {},
     "output_type": "execute_result"
    }
   ],
   "source": [
    "document.is_encrypted"
   ]
  },
  {
   "cell_type": "code",
   "execution_count": 36,
   "metadata": {},
   "outputs": [
    {
     "data": {
      "text/plain": [
       "\"D:20180624111518Z00'00'\""
      ]
     },
     "execution_count": 36,
     "metadata": {},
     "output_type": "execute_result"
    }
   ],
   "source": [
    "document.metadata['/CreationDate']"
   ]
  },
  {
   "cell_type": "code",
   "execution_count": 37,
   "metadata": {},
   "outputs": [
    {
     "data": {
      "text/plain": [
       "'Mac OS X 10.13.5 Quartz PDFContext'"
      ]
     },
     "execution_count": 37,
     "metadata": {},
     "output_type": "execute_result"
    }
   ],
   "source": [
    "document.metadata['/Producer']"
   ]
  },
  {
   "cell_type": "code",
   "execution_count": 38,
   "metadata": {},
   "outputs": [
    {
     "data": {
      "text/plain": [
       "'\\nA VERY IMPORTANT DOCUMENT By James McCormac CEO Loose Seal Inc \\n'"
      ]
     },
     "execution_count": 38,
     "metadata": {},
     "output_type": "execute_result"
    }
   ],
   "source": [
    "document.pages[0].extract_text()"
   ]
  },
  {
   "cell_type": "code",
   "execution_count": 39,
   "metadata": {},
   "outputs": [
    {
     "data": {
      "text/plain": [
       "'\\t\\nThis is an example of a test document that is stored in PDF format. It contains some sentences to describe what it is and the it has lore ipsum text.\\n\\t Lorem ipsum dolor sit amet, consectetur adipiscing elit. Ut tincidunt non purus sit amet laoreet. Nam malesuada lacinia neque, blandit pretium nisi. Integer iaculis condimentum purus, vel porta leo pulvinar vitae. Mauris non laoreet ligula. Nulla consequat, eros eu imperdiet malesuada, elit sapien rhoncus metus, in eleifend dui erat quis sem. Aenean pharetra sodales magna, in venenatis arcu molestie et. Fusce bibendum orci non diam vestibulum malesuada. Orci varius natoque penatibus et magnis dis parturient montes, nascetur ridiculus mus. Sed non mi mauris. Donec ullamcorper libero vitae rhoncus tristique. Maecenas ut iaculis arcu, eu vulputate nibh. Vivamus nec nisi non purus malesuada pulvinar. Vivamus fringilla lacinia tortor. Mauris vitae mi quis nibh varius consequat in in dui.\\nTITLE 1 \\t Sed vestibulum eu augue eget molestie. Fusce tincidunt dignissim lacus. Sed quis mollis erat, non faucibus erat. Praesent non nulla id ipsum viverra ultricies vitae at mi. Vivamus sit amet sem vel lacus pulvinar rutrum. Aenean nec neque dictum nulla ultricies tincidunt quis quis est. Nulla erat felis, hendrerit venenatis turpis in, congue pharetra lacus.\\n\\t Pellentesque in sollicitudin turpis, in lacinia enim. Vestibulum dictum velit enim, sit amet facilisis erat vestibulum vel. Donec vel est a dui cursus venenatis. In accumsan nulla vitae erat sollicitudin, laoreet hendrerit massa placerat. Mauris porta volutpat viverra. In nec est vitae risus luctus malesuada. Integer tempus nulla ac urna mollis convallis sit amet ut odio. Lorem ipsum dolor sit amet, consectetur adipiscing elit. Suspendisse sed eleifend risus. Etiam hendrerit elit augue, id posuere nulla placerat vitae. Nullam et ante sit amet odio eﬃcitur mattis ut eget erat.\\u2029'"
      ]
     },
     "execution_count": 39,
     "metadata": {},
     "output_type": "execute_result"
    }
   ],
   "source": [
    "document.pages[1].extract_text()"
   ]
  },
  {
   "cell_type": "code",
   "execution_count": 40,
   "metadata": {},
   "outputs": [],
   "source": [
    "file.close()"
   ]
  },
  {
   "cell_type": "code",
   "execution_count": 41,
   "metadata": {},
   "outputs": [],
   "source": [
    "file = open('./documents/document-2.pdf', 'rb')\n",
    "document = PdfReader(file)"
   ]
  },
  {
   "cell_type": "code",
   "execution_count": 42,
   "metadata": {},
   "outputs": [
    {
     "data": {
      "text/plain": [
       "True"
      ]
     },
     "execution_count": 42,
     "metadata": {},
     "output_type": "execute_result"
    }
   ],
   "source": [
    "document.is_encrypted"
   ]
  },
  {
   "cell_type": "code",
   "execution_count": 43,
   "metadata": {},
   "outputs": [
    {
     "ename": "FileNotDecryptedError",
     "evalue": "File has not been decrypted",
     "output_type": "error",
     "traceback": [
      "\u001b[1;31m---------------------------------------------------------------------------\u001b[0m",
      "\u001b[1;31mFileNotDecryptedError\u001b[0m                     Traceback (most recent call last)",
      "Cell \u001b[1;32mIn[43], line 1\u001b[0m\n\u001b[1;32m----> 1\u001b[0m \u001b[38;5;28;43mlen\u001b[39;49m\u001b[43m(\u001b[49m\u001b[43mdocument\u001b[49m\u001b[38;5;241;43m.\u001b[39;49m\u001b[43mpages\u001b[49m\u001b[43m)\u001b[49m\n",
      "File \u001b[1;32mc:\\Users\\JohnWork\\Documents\\Projects\\Python\\python_automation\\venv\\Lib\\site-packages\\PyPDF2\\_page.py:2063\u001b[0m, in \u001b[0;36m_VirtualList.__len__\u001b[1;34m(self)\u001b[0m\n\u001b[0;32m   2062\u001b[0m \u001b[38;5;28;01mdef\u001b[39;00m \u001b[38;5;21m__len__\u001b[39m(\u001b[38;5;28mself\u001b[39m) \u001b[38;5;241m-\u001b[39m\u001b[38;5;241m>\u001b[39m \u001b[38;5;28mint\u001b[39m:\n\u001b[1;32m-> 2063\u001b[0m     \u001b[38;5;28;01mreturn\u001b[39;00m \u001b[38;5;28;43mself\u001b[39;49m\u001b[38;5;241;43m.\u001b[39;49m\u001b[43mlength_function\u001b[49m\u001b[43m(\u001b[49m\u001b[43m)\u001b[49m\n",
      "File \u001b[1;32mc:\\Users\\JohnWork\\Documents\\Projects\\Python\\python_automation\\venv\\Lib\\site-packages\\PyPDF2\\_reader.py:445\u001b[0m, in \u001b[0;36mPdfReader._get_num_pages\u001b[1;34m(self)\u001b[0m\n\u001b[0;32m    441\u001b[0m \u001b[38;5;66;03m# Flattened pages will not work on an Encrypted PDF;\u001b[39;00m\n\u001b[0;32m    442\u001b[0m \u001b[38;5;66;03m# the PDF file's page count is used in this case. Otherwise,\u001b[39;00m\n\u001b[0;32m    443\u001b[0m \u001b[38;5;66;03m# the original method (flattened page count) is used.\u001b[39;00m\n\u001b[0;32m    444\u001b[0m \u001b[38;5;28;01mif\u001b[39;00m \u001b[38;5;28mself\u001b[39m\u001b[38;5;241m.\u001b[39mis_encrypted:\n\u001b[1;32m--> 445\u001b[0m     \u001b[38;5;28;01mreturn\u001b[39;00m \u001b[38;5;28;43mself\u001b[39;49m\u001b[38;5;241;43m.\u001b[39;49m\u001b[43mtrailer\u001b[49m\u001b[43m[\u001b[49m\u001b[43mTK\u001b[49m\u001b[38;5;241;43m.\u001b[39;49m\u001b[43mROOT\u001b[49m\u001b[43m]\u001b[49m[\u001b[38;5;124m\"\u001b[39m\u001b[38;5;124m/Pages\u001b[39m\u001b[38;5;124m\"\u001b[39m][\u001b[38;5;124m\"\u001b[39m\u001b[38;5;124m/Count\u001b[39m\u001b[38;5;124m\"\u001b[39m]  \u001b[38;5;66;03m# type: ignore\u001b[39;00m\n\u001b[0;32m    446\u001b[0m \u001b[38;5;28;01melse\u001b[39;00m:\n\u001b[0;32m    447\u001b[0m     \u001b[38;5;28;01mif\u001b[39;00m \u001b[38;5;28mself\u001b[39m\u001b[38;5;241m.\u001b[39mflattened_pages \u001b[38;5;129;01mis\u001b[39;00m \u001b[38;5;28;01mNone\u001b[39;00m:\n",
      "File \u001b[1;32mc:\\Users\\JohnWork\\Documents\\Projects\\Python\\python_automation\\venv\\Lib\\site-packages\\PyPDF2\\generic\\_data_structures.py:266\u001b[0m, in \u001b[0;36mDictionaryObject.__getitem__\u001b[1;34m(self, key)\u001b[0m\n\u001b[0;32m    265\u001b[0m \u001b[38;5;28;01mdef\u001b[39;00m \u001b[38;5;21m__getitem__\u001b[39m(\u001b[38;5;28mself\u001b[39m, key: Any) \u001b[38;5;241m-\u001b[39m\u001b[38;5;241m>\u001b[39m PdfObject:\n\u001b[1;32m--> 266\u001b[0m     \u001b[38;5;28;01mreturn\u001b[39;00m \u001b[38;5;28;43mdict\u001b[39;49m\u001b[38;5;241;43m.\u001b[39;49m\u001b[38;5;21;43m__getitem__\u001b[39;49m\u001b[43m(\u001b[49m\u001b[38;5;28;43mself\u001b[39;49m\u001b[43m,\u001b[49m\u001b[43m \u001b[49m\u001b[43mkey\u001b[49m\u001b[43m)\u001b[49m\u001b[38;5;241;43m.\u001b[39;49m\u001b[43mget_object\u001b[49m\u001b[43m(\u001b[49m\u001b[43m)\u001b[49m\n",
      "File \u001b[1;32mc:\\Users\\JohnWork\\Documents\\Projects\\Python\\python_automation\\venv\\Lib\\site-packages\\PyPDF2\\generic\\_base.py:259\u001b[0m, in \u001b[0;36mIndirectObject.get_object\u001b[1;34m(self)\u001b[0m\n\u001b[0;32m    258\u001b[0m \u001b[38;5;28;01mdef\u001b[39;00m \u001b[38;5;21mget_object\u001b[39m(\u001b[38;5;28mself\u001b[39m) \u001b[38;5;241m-\u001b[39m\u001b[38;5;241m>\u001b[39m Optional[\u001b[38;5;124m\"\u001b[39m\u001b[38;5;124mPdfObject\u001b[39m\u001b[38;5;124m\"\u001b[39m]:\n\u001b[1;32m--> 259\u001b[0m     obj \u001b[38;5;241m=\u001b[39m \u001b[38;5;28;43mself\u001b[39;49m\u001b[38;5;241;43m.\u001b[39;49m\u001b[43mpdf\u001b[49m\u001b[38;5;241;43m.\u001b[39;49m\u001b[43mget_object\u001b[49m\u001b[43m(\u001b[49m\u001b[38;5;28;43mself\u001b[39;49m\u001b[43m)\u001b[49m\n\u001b[0;32m    260\u001b[0m     \u001b[38;5;28;01mif\u001b[39;00m obj \u001b[38;5;129;01mis\u001b[39;00m \u001b[38;5;28;01mNone\u001b[39;00m:\n\u001b[0;32m    261\u001b[0m         \u001b[38;5;28;01mreturn\u001b[39;00m \u001b[38;5;28;01mNone\u001b[39;00m\n",
      "File \u001b[1;32mc:\\Users\\JohnWork\\Documents\\Projects\\Python\\python_automation\\venv\\Lib\\site-packages\\PyPDF2\\_reader.py:1266\u001b[0m, in \u001b[0;36mPdfReader.get_object\u001b[1;34m(self, indirect_reference)\u001b[0m\n\u001b[0;32m   1263\u001b[0m \u001b[38;5;28;01mif\u001b[39;00m \u001b[38;5;129;01mnot\u001b[39;00m \u001b[38;5;28mself\u001b[39m\u001b[38;5;241m.\u001b[39m_override_encryption \u001b[38;5;129;01mand\u001b[39;00m \u001b[38;5;28mself\u001b[39m\u001b[38;5;241m.\u001b[39m_encryption \u001b[38;5;129;01mis\u001b[39;00m \u001b[38;5;129;01mnot\u001b[39;00m \u001b[38;5;28;01mNone\u001b[39;00m:\n\u001b[0;32m   1264\u001b[0m     \u001b[38;5;66;03m# if we don't have the encryption key:\u001b[39;00m\n\u001b[0;32m   1265\u001b[0m     \u001b[38;5;28;01mif\u001b[39;00m \u001b[38;5;129;01mnot\u001b[39;00m \u001b[38;5;28mself\u001b[39m\u001b[38;5;241m.\u001b[39m_encryption\u001b[38;5;241m.\u001b[39mis_decrypted():\n\u001b[1;32m-> 1266\u001b[0m         \u001b[38;5;28;01mraise\u001b[39;00m FileNotDecryptedError(\u001b[38;5;124m\"\u001b[39m\u001b[38;5;124mFile has not been decrypted\u001b[39m\u001b[38;5;124m\"\u001b[39m)\n\u001b[0;32m   1267\u001b[0m     \u001b[38;5;66;03m# otherwise, decrypt here...\u001b[39;00m\n\u001b[0;32m   1268\u001b[0m     retval \u001b[38;5;241m=\u001b[39m cast(PdfObject, retval)\n",
      "\u001b[1;31mFileNotDecryptedError\u001b[0m: File has not been decrypted"
     ]
    }
   ],
   "source": [
    "len(document.pages)"
   ]
  },
  {
   "cell_type": "code",
   "execution_count": 44,
   "metadata": {},
   "outputs": [
    {
     "data": {
      "text/plain": [
       "<PasswordType.OWNER_PASSWORD: 2>"
      ]
     },
     "execution_count": 44,
     "metadata": {},
     "output_type": "execute_result"
    }
   ],
   "source": [
    "document.decrypt('automate')"
   ]
  },
  {
   "cell_type": "code",
   "execution_count": 45,
   "metadata": {},
   "outputs": [
    {
     "data": {
      "text/plain": [
       "3"
      ]
     },
     "execution_count": 45,
     "metadata": {},
     "output_type": "execute_result"
    }
   ],
   "source": [
    "len(document.pages)"
   ]
  },
  {
   "cell_type": "code",
   "execution_count": 47,
   "metadata": {},
   "outputs": [
    {
     "data": {
      "text/plain": [
       "<PyPDF2._page._VirtualList at 0x2008443fc80>"
      ]
     },
     "execution_count": 47,
     "metadata": {},
     "output_type": "execute_result"
    }
   ],
   "source": [
    "document.pages"
   ]
  },
  {
   "cell_type": "code",
   "execution_count": 49,
   "metadata": {},
   "outputs": [],
   "source": [
    "file.close()"
   ]
  },
  {
   "cell_type": "markdown",
   "metadata": {},
   "source": [
    "<p>Reading Word Documents</p>"
   ]
  },
  {
   "cell_type": "code",
   "execution_count": 51,
   "metadata": {},
   "outputs": [],
   "source": [
    "import docx"
   ]
  },
  {
   "cell_type": "code",
   "execution_count": 52,
   "metadata": {},
   "outputs": [],
   "source": [
    "doc = docx.Document('./documents/document-1.docx')"
   ]
  },
  {
   "cell_type": "code",
   "execution_count": 53,
   "metadata": {},
   "outputs": [
    {
     "data": {
      "text/plain": [
       "'A very important document'"
      ]
     },
     "execution_count": 53,
     "metadata": {},
     "output_type": "execute_result"
    }
   ],
   "source": [
    "doc.core_properties.title"
   ]
  },
  {
   "cell_type": "code",
   "execution_count": 55,
   "metadata": {},
   "outputs": [
    {
     "data": {
      "text/plain": [
       "'lorem ipsum'"
      ]
     },
     "execution_count": 55,
     "metadata": {},
     "output_type": "execute_result"
    }
   ],
   "source": [
    "doc.core_properties.keywords"
   ]
  },
  {
   "cell_type": "code",
   "execution_count": 56,
   "metadata": {},
   "outputs": [
    {
     "data": {
      "text/plain": [
       "datetime.datetime(2018, 6, 24, 16, 0, 54)"
      ]
     },
     "execution_count": 56,
     "metadata": {},
     "output_type": "execute_result"
    }
   ],
   "source": [
    "doc.core_properties.modified"
   ]
  },
  {
   "cell_type": "code",
   "execution_count": 57,
   "metadata": {},
   "outputs": [
    {
     "data": {
      "text/plain": [
       "58"
      ]
     },
     "execution_count": 57,
     "metadata": {},
     "output_type": "execute_result"
    }
   ],
   "source": [
    "len(doc.paragraphs)"
   ]
  },
  {
   "cell_type": "code",
   "execution_count": 58,
   "metadata": {},
   "outputs": [
    {
     "name": "stdout",
     "output_type": "stream",
     "text": [
      "30 A VERY IMPORTANT DOCUMENT\n",
      "31 By James McCormac\n",
      "32 CEO Loose Seal Inc\n",
      "35 \t\n",
      "48 This is an example of a test document that is stored in Word format. It contains some sentences to describe what it is and it has lorem ipsum text.\n",
      "50 \tLorem ipsum dolor sit amet, consectetur adipiscing elit. Ut tincidunt non purus sit amet laoreet. Nam malesuada lacinia neque, blandit pretium nisi. Integer iaculis condimentum purus, vel porta leo pulvinar vitae. Mauris non laoreet ligula. Nulla consequat, eros eu imperdiet malesuada, elit sapien rhoncus metus, in eleifend dui erat quis sem. Aenean pharetra sodales magna, in venenatis arcu molestie et. Fusce bibendum orci non diam vestibulum malesuada. Orci varius natoque penatibus et magnis dis parturient montes, nascetur ridiculus mus. Sed non mi mauris. Donec ullamcorper libero vitae rhoncus tristique. Maecenas ut iaculis arcu, eu vulputate nibh. Vivamus nec nisi non purus malesuada pulvinar. Vivamus fringilla lacinia tortor. Mauris vitae mi quis nibh varius consequat in in dui.\n",
      "51 TITLE 1\n",
      "52 \tSed vestibulum eu augue eget molestie. Fusce tincidunt dignissim lacus. Sed quis mollis erat, non faucibus erat. Praesent non nulla id ipsum viverra ultricies vitae at mi. Vivamus sit amet sem vel lacus pulvinar rutrum. Aenean nec neque dictum nulla ultricies tincidunt quis quis est. Nulla erat felis, hendrerit venenatis turpis in, congue pharetra lacus.\n",
      "53 \tPellentesque in sollicitudin turpis, in lacinia enim. Vestibulum dictum velit enim, sit amet facilisis erat vestibulum vel. Donec vel est a dui cursus venenatis. In accumsan nulla vitae erat sollicitudin, laoreet hendrerit massa placerat. Mauris porta volutpat viverra. In nec est vitae risus luctus malesuada. Integer tempus nulla ac urna mollis convallis sit amet ut odio. Lorem ipsum dolor sit amet, consectetur adipiscing elit. Suspendisse sed eleifend risus. Etiam hendrerit elit augue, id posuere nulla placerat vitae. Nullam et ante sit amet odio efficitur mattis ut eget erat.\n",
      "55 \tNullam fringilla mi in nibh pellentesque placerat. Quisque lobortis enim metus, a blandit odio posuere eget. Donec eu ipsum quis magna porta imperdiet non eu justo. Praesent porttitor lectus ut turpis porttitor gravida. Duis sit amet leo eros. Sed pellentesque nisi sed luctus finibus. Vestibulum non velit sed dui ultricies maximus. Praesent in nisi quis metus convallis aliquet. Vestibulum vestibulum lacus sit amet enim elementum ultricies. Nullam at semper dui.\n",
      "56 TITLE 2\n",
      "57 \tMaecenas ac dictum lorem. Integer in scelerisque magna, vel dictum elit. Duis non eleifend ex. Nulla tincidunt finibus velit. Nunc fermentum et lorem in ultrices. Etiam nisi sem, tincidunt non dignissim nec, volutpat at velit. Proin faucibus convallis dui, id mollis nibh viverra ornare. Vestibulum a accumsan diam, at pulvinar lorem. Nulla venenatis leo vel mattis aliquam. In pretium congue diam quis fermentum. Phasellus sodales vitae est vitae condimentum. Sed auctor diam justo, et ultricies ipsum viverra vitae. Maecenas ornare enim neque, ac lacinia diam facilisis non. Nullam porta dui id nisi consectetur faucibus. Donec odio felis, fringilla in faucibus sit amet, fringilla sit amet est. Nulla facilisi.\n"
     ]
    }
   ],
   "source": [
    "for index, paragraph in enumerate(doc.paragraphs):\n",
    "    if paragraph.text:\n",
    "        print(index, paragraph.text)"
   ]
  },
  {
   "cell_type": "code",
   "execution_count": 59,
   "metadata": {},
   "outputs": [
    {
     "data": {
      "text/plain": [
       "'A VERY IMPORTANT DOCUMENT'"
      ]
     },
     "execution_count": 59,
     "metadata": {},
     "output_type": "execute_result"
    }
   ],
   "source": [
    "doc.paragraphs[30].text"
   ]
  },
  {
   "cell_type": "code",
   "execution_count": 60,
   "metadata": {},
   "outputs": [
    {
     "data": {
      "text/plain": [
       "'By James McCormac'"
      ]
     },
     "execution_count": 60,
     "metadata": {},
     "output_type": "execute_result"
    }
   ],
   "source": [
    "doc.paragraphs[31].text"
   ]
  },
  {
   "cell_type": "code",
   "execution_count": 62,
   "metadata": {},
   "outputs": [],
   "source": [
    "doc.paragraphs[30].runs[0].italic"
   ]
  },
  {
   "cell_type": "code",
   "execution_count": 63,
   "metadata": {},
   "outputs": [
    {
     "data": {
      "text/plain": [
       "True"
      ]
     },
     "execution_count": 63,
     "metadata": {},
     "output_type": "execute_result"
    }
   ],
   "source": [
    "doc.paragraphs[30].runs[0].bold"
   ]
  },
  {
   "cell_type": "code",
   "execution_count": 64,
   "metadata": {},
   "outputs": [
    {
     "data": {
      "text/plain": [
       "True"
      ]
     },
     "execution_count": 64,
     "metadata": {},
     "output_type": "execute_result"
    }
   ],
   "source": [
    "doc.paragraphs[31].runs[0].italic"
   ]
  },
  {
   "cell_type": "code",
   "execution_count": 65,
   "metadata": {},
   "outputs": [
    {
     "data": {
      "text/plain": [
       "['This is an example of a test document that is stored in ',\n",
       " 'Word',\n",
       " ' format',\n",
       " '. It contains some ',\n",
       " 'sentences',\n",
       " ' to describe what it is and it has ',\n",
       " 'lore',\n",
       " 'm',\n",
       " ' ipsum',\n",
       " ' text.']"
      ]
     },
     "execution_count": 65,
     "metadata": {},
     "output_type": "execute_result"
    }
   ],
   "source": [
    "[run.text for run in doc.paragraphs[48].runs]"
   ]
  },
  {
   "cell_type": "code",
   "execution_count": 66,
   "metadata": {},
   "outputs": [],
   "source": [
    "run1 = doc.paragraphs[48].runs[1]"
   ]
  },
  {
   "cell_type": "code",
   "execution_count": 67,
   "metadata": {},
   "outputs": [
    {
     "data": {
      "text/plain": [
       "'Word'"
      ]
     },
     "execution_count": 67,
     "metadata": {},
     "output_type": "execute_result"
    }
   ],
   "source": [
    "run1.text"
   ]
  },
  {
   "cell_type": "code",
   "execution_count": 68,
   "metadata": {},
   "outputs": [
    {
     "data": {
      "text/plain": [
       "True"
      ]
     },
     "execution_count": 68,
     "metadata": {},
     "output_type": "execute_result"
    }
   ],
   "source": [
    "run1.bold"
   ]
  },
  {
   "cell_type": "markdown",
   "metadata": {},
   "source": [
    "<p>Scanning Documents for a Keyword</p>"
   ]
  }
 ],
 "metadata": {
  "kernelspec": {
   "display_name": "venv",
   "language": "python",
   "name": "python3"
  },
  "language_info": {
   "codemirror_mode": {
    "name": "ipython",
    "version": 3
   },
   "file_extension": ".py",
   "mimetype": "text/x-python",
   "name": "python",
   "nbconvert_exporter": "python",
   "pygments_lexer": "ipython3",
   "version": "3.12.2"
  }
 },
 "nbformat": 4,
 "nbformat_minor": 2
}
